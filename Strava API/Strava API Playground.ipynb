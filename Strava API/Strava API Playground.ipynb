{
 "cells": [
  {
   "cell_type": "code",
   "execution_count": null,
   "id": "332e8d96",
   "metadata": {},
   "outputs": [],
   "source": [
    "# OS and Dotenv imports used for environment variable management, keeping API keys secure.\n",
    "import os\n",
    "from dotenv import load_dotenv\n",
    "\n",
    "# Requests library for making HTTP requests to the Strava API.\n",
    "import requests\n",
    "\n",
    "# Pretty print for better readability of JSON responses.\n",
    "from pprint import pprint"
   ]
  },
  {
   "cell_type": "markdown",
   "id": "db2aed35",
   "metadata": {},
   "source": [
    "Firstly, lets look at the first API call, athlete."
   ]
  },
  {
   "cell_type": "code",
   "execution_count": null,
   "id": "e02a8c46",
   "metadata": {},
   "outputs": [],
   "source": []
  },
  {
   "cell_type": "code",
   "execution_count": null,
   "id": "2ba9a105",
   "metadata": {},
   "outputs": [
    {
     "name": "stdout",
     "output_type": "stream",
     "text": [
      "{'badge_type_id': 0,\n",
      " 'bio': None,\n",
      " 'city': None,\n",
      " 'country': None,\n",
      " 'created_at': '2020-07-21T05:11:27Z',\n",
      " 'firstname': 'William',\n",
      " 'follower': None,\n",
      " 'friend': None,\n",
      " 'id': 64341718,\n",
      " 'lastname': 'Catt',\n",
      " 'premium': False,\n",
      " 'profile': 'https://graph.facebook.com/2619742961675163/picture?height=256&width=256',\n",
      " 'profile_medium': 'https://graph.facebook.com/2619742961675163/picture?height=256&width=256',\n",
      " 'resource_state': 2,\n",
      " 'sex': 'M',\n",
      " 'state': None,\n",
      " 'summit': False,\n",
      " 'updated_at': '2023-09-25T00:56:44Z',\n",
      " 'username': 'cattw',\n",
      " 'weight': None}\n"
     ]
    }
   ],
   "source": [
    "# Load environment variables from .env file\n",
    "load_dotenv()\n",
    "CLIENT_ID = os.getenv(\"STRAVA_CLIENT_ID\")\n",
    "CLIENT_SECRET = os.getenv(\"STRAVA_CLIENT_SECRET\")\n",
    "REFRESH_TOKEN = os.getenv(\"STRAVA_REFRESH_TOKEN\")\n",
    "\n",
    "\n",
    "# Example: Get athlete profile\n",
    "athlete_url = \"https://www.strava.com/api/v3/athlete\"\n",
    "\n",
    "# Authorization header with Access token\n",
    "headers = {\"Authorization\": f\"Bearer {ACCESS_TOKEN}\"}\n",
    "\n",
    "# Make the GET request to the Strava API\n",
    "response = requests.get(athlete_url, headers=headers)\n",
    "\n",
    "# Check if the request was successful and print the response\n",
    "if response.status_code == 200:\n",
    "    pprint(response.json())\n",
    "else:\n",
    "    pprint(f\"Error: {response.status_code} - {response.text}\")\n"
   ]
  },
  {
   "cell_type": "markdown",
   "id": "deef40ef",
   "metadata": {},
   "source": [
    "Name Display, with profile picture and flag as a sort of header?\n",
    "\n",
    "All other details seem irellevant, gender flag but don't display(?)\n",
    ">"
   ]
  },
  {
   "cell_type": "code",
   "execution_count": 12,
   "id": "7dd111bf",
   "metadata": {},
   "outputs": [
    {
     "name": "stdout",
     "output_type": "stream",
     "text": [
      "Error: 401 - {\"message\":\"Authorization Error\",\"errors\":[{\"resource\":\"Athlete\",\"field\":\"access_token\",\"code\":\"invalid\"}]}\n"
     ]
    }
   ],
   "source": [
    "\n",
    "\n",
    "activites_url = \"https://www.strava.com/api/v3/athlete/activities\"\n",
    "headers = {\"Authorization\": f\"Bearer {ACCESS_TOKEN}\"}\n",
    "\n",
    "params = {\"per_page\": 10, \"page\": 1}\n",
    "\n",
    "activities_response = requests.get(activites_url, headers=headers, params=params)\n",
    "\n",
    "if activities_response.status_code == 200:\n",
    "    activities = activities_response.json()\n",
    "    # Print the full JSON nicely\n",
    "    import json\n",
    "    print(json.dumps(activities, indent=2))\n",
    "else:\n",
    "    print(f\"Error: {activities_response.status_code} - {activities_response.text}\")\n"
   ]
  },
  {
   "cell_type": "code",
   "execution_count": null,
   "id": "4d7086f1",
   "metadata": {},
   "outputs": [],
   "source": []
  }
 ],
 "metadata": {
  "kernelspec": {
   "display_name": "Python 3",
   "language": "python",
   "name": "python3"
  },
  "language_info": {
   "codemirror_mode": {
    "name": "ipython",
    "version": 3
   },
   "file_extension": ".py",
   "mimetype": "text/x-python",
   "name": "python",
   "nbconvert_exporter": "python",
   "pygments_lexer": "ipython3",
   "version": "3.13.7"
  }
 },
 "nbformat": 4,
 "nbformat_minor": 5
}
