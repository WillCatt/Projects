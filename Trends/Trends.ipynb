{
 "cells": [
  {
   "cell_type": "code",
   "execution_count": null,
   "id": "2ea51990",
   "metadata": {},
   "outputs": [],
   "source": [
    "import os\n",
    "import time\n",
    "import pandas as pd\n",
    "import matplotlib.pyplot as plt\n",
    "from pytrends.request import TrendReq\n",
    "from datetime import datetime\n",
    "\n",
    "# Initialise\n",
    "pytrends = TrendReq(hl='en-US', tz=360)\n",
    "today = datetime.today().strftime('%Y-%m-%d')\n",
    "\n",
    "# Define keyword groups\n",
    "keyword_groups = {\n",
    "    \"apparel\": [\n",
    "        # \"Climbing Pants\", \n",
    "        \"Climbing Tee\", \n",
    "        \"Climbing T-Shirt\", \n",
    "        \"Climbing Hat\", \n",
    "        \"Climbing Cap\"\n",
    "    ],\n",
    "    \"gear\": [\n",
    "        \"Chalk Bag\", \n",
    "        \"Climbing Charm\", \n",
    "        \"Climbing Chalk\", \n",
    "        \"Climbing Tape\", \n",
    "        \"Climbing Shoe Deodoriser\"\n",
    "    ]\n",
    "    \n",
    "    \n",
    "}"
   ]
  },
  {
   "cell_type": "code",
   "execution_count": 26,
   "id": "4ba7c6e4",
   "metadata": {},
   "outputs": [
    {
     "ename": "KeyboardInterrupt",
     "evalue": "",
     "output_type": "error",
     "traceback": [
      "\u001b[0;31m---------------------------------------------------------------------------\u001b[0m",
      "\u001b[0;31mKeyboardInterrupt\u001b[0m                         Traceback (most recent call last)",
      "Cell \u001b[0;32mIn[26], line 66\u001b[0m\n\u001b[1;32m     64\u001b[0m \u001b[38;5;66;03m# Loop over all groups\u001b[39;00m\n\u001b[1;32m     65\u001b[0m \u001b[38;5;28;01mfor\u001b[39;00m group_name, keywords \u001b[38;5;129;01min\u001b[39;00m keyword_groups\u001b[38;5;241m.\u001b[39mitems():\n\u001b[0;32m---> 66\u001b[0m     \u001b[43mtime\u001b[49m\u001b[38;5;241;43m.\u001b[39;49m\u001b[43msleep\u001b[49m\u001b[43m(\u001b[49m\u001b[38;5;241;43m15\u001b[39;49m\u001b[43m)\u001b[49m\n\u001b[1;32m     67\u001b[0m     df \u001b[38;5;241m=\u001b[39m fetch_and_save(group_name, keywords)\n\u001b[1;32m     68\u001b[0m     \u001b[38;5;28;01mif\u001b[39;00m \u001b[38;5;129;01mnot\u001b[39;00m df\u001b[38;5;241m.\u001b[39mempty:\n",
      "\u001b[0;31mKeyboardInterrupt\u001b[0m: "
     ]
    }
   ],
   "source": [
    "\n",
    "\n",
    "# Create folder for trend data\n",
    "os.makedirs(\"trend_data\", exist_ok=True)\n",
    "all_trend_data = []\n",
    "\n",
    "# Function to fetch and cache trends\n",
    "def fetch_and_save(group_name, keywords, timeframe='today 12-m', max_retries=5):\n",
    "    safe_timeframe = timeframe.replace(' ', '_').replace('-', '')\n",
    "    csv_path = f\"trend_data/{group_name}_{safe_timeframe}_{today}.csv\"\n",
    "    if os.path.exists(csv_path):\n",
    "        print(f\"🟡 Using cached data for group: {group_name}\")\n",
    "        return pd.read_csv(csv_path, index_col=0, parse_dates=True)\n",
    "\n",
    "    print(f\"🔵 Fetching data for group: {group_name}\")\n",
    "    attempt = 0\n",
    "    while attempt < max_retries:\n",
    "        try:\n",
    "            pytrends.build_payload(keywords, timeframe=timeframe)\n",
    "            df = pytrends.interest_over_time()\n",
    "\n",
    "            if 'isPartial' in df.columns:\n",
    "                df.drop(columns='isPartial', inplace=True)\n",
    "\n",
    "            df.to_csv(csv_path)\n",
    "            print(f\"✅ Successfully fetched {group_name}\")\n",
    "            return df\n",
    "        except Exception as e:\n",
    "            attempt += 1\n",
    "            wait = 5 * attempt  # Increasing wait time\n",
    "            print(f\"🔴 Attempt {attempt} failed: {e} | Retrying in {wait}s...\")\n",
    "            time.sleep(wait)\n",
    "\n",
    "    print(f\"❌ Failed to fetch after {max_retries} retries: {group_name}\")\n",
    "    return pd.DataFrame()\n",
    "\n",
    "# Loop over all groups\n",
    "for group_name, keywords in keyword_groups.items():\n",
    "    time.sleep(15)\n",
    "    df = fetch_and_save(group_name, keywords)\n",
    "    if not df.empty:\n",
    "        all_trend_data.append(df)\n",
    "\n",
    "# Combine all dataframes\n",
    "combined = pd.concat(all_trend_data, axis=1)\n",
    "combined = combined.loc[:,~combined.columns.duplicated()]  # Drop duplicate columns if any\n",
    "\n",
    "# Plot trends\n",
    "plt.figure(figsize=(14, 7))\n",
    "for col in combined.columns:\n",
    "    plt.plot(combined.index, combined[col], label=col)\n",
    "\n",
    "plt.title(\"Google Trends: Climbing Product Interest (Past 12 Months)\")\n",
    "plt.xlabel(\"Date\")\n",
    "plt.ylabel(\"Search Interest\")\n",
    "plt.grid(True)\n",
    "plt.legend()\n",
    "plt.tight_layout()\n",
    "plt.show()"
   ]
  },
  {
   "cell_type": "code",
   "execution_count": 29,
   "id": "ad88d626",
   "metadata": {},
   "outputs": [
    {
     "name": "stdout",
     "output_type": "stream",
     "text": [
      "🔵 Fetching data for: Climbing Tee\n"
     ]
    },
    {
     "name": "stderr",
     "output_type": "stream",
     "text": [
      "/Users/williamcatt/miniforge3/lib/python3.9/site-packages/pytrends/request.py:260: FutureWarning: Downcasting object dtype arrays on .fillna, .ffill, .bfill is deprecated and will change in a future version. Call result.infer_objects(copy=False) instead. To opt-in to the future behavior, set `pd.set_option('future.no_silent_downcasting', True)`\n",
      "  df = df.fillna(False)\n"
     ]
    },
    {
     "name": "stdout",
     "output_type": "stream",
     "text": [
      "🔵 Fetching data for: Climbing T-Shirt\n"
     ]
    },
    {
     "name": "stderr",
     "output_type": "stream",
     "text": [
      "/Users/williamcatt/miniforge3/lib/python3.9/site-packages/pytrends/request.py:260: FutureWarning: Downcasting object dtype arrays on .fillna, .ffill, .bfill is deprecated and will change in a future version. Call result.infer_objects(copy=False) instead. To opt-in to the future behavior, set `pd.set_option('future.no_silent_downcasting', True)`\n",
      "  df = df.fillna(False)\n"
     ]
    },
    {
     "name": "stdout",
     "output_type": "stream",
     "text": [
      "🔵 Fetching data for: Climbing Hat\n"
     ]
    },
    {
     "name": "stderr",
     "output_type": "stream",
     "text": [
      "/Users/williamcatt/miniforge3/lib/python3.9/site-packages/pytrends/request.py:260: FutureWarning: Downcasting object dtype arrays on .fillna, .ffill, .bfill is deprecated and will change in a future version. Call result.infer_objects(copy=False) instead. To opt-in to the future behavior, set `pd.set_option('future.no_silent_downcasting', True)`\n",
      "  df = df.fillna(False)\n"
     ]
    },
    {
     "name": "stdout",
     "output_type": "stream",
     "text": [
      "🔵 Fetching data for: Climbing Cap\n"
     ]
    },
    {
     "name": "stderr",
     "output_type": "stream",
     "text": [
      "/Users/williamcatt/miniforge3/lib/python3.9/site-packages/pytrends/request.py:260: FutureWarning: Downcasting object dtype arrays on .fillna, .ffill, .bfill is deprecated and will change in a future version. Call result.infer_objects(copy=False) instead. To opt-in to the future behavior, set `pd.set_option('future.no_silent_downcasting', True)`\n",
      "  df = df.fillna(False)\n"
     ]
    },
    {
     "name": "stdout",
     "output_type": "stream",
     "text": [
      "🔵 Fetching data for: Chalk Bag\n"
     ]
    },
    {
     "name": "stderr",
     "output_type": "stream",
     "text": [
      "/Users/williamcatt/miniforge3/lib/python3.9/site-packages/pytrends/request.py:260: FutureWarning: Downcasting object dtype arrays on .fillna, .ffill, .bfill is deprecated and will change in a future version. Call result.infer_objects(copy=False) instead. To opt-in to the future behavior, set `pd.set_option('future.no_silent_downcasting', True)`\n",
      "  df = df.fillna(False)\n"
     ]
    },
    {
     "name": "stdout",
     "output_type": "stream",
     "text": [
      "🔵 Fetching data for: Climbing Charm\n"
     ]
    },
    {
     "name": "stderr",
     "output_type": "stream",
     "text": [
      "/Users/williamcatt/miniforge3/lib/python3.9/site-packages/pytrends/request.py:260: FutureWarning: Downcasting object dtype arrays on .fillna, .ffill, .bfill is deprecated and will change in a future version. Call result.infer_objects(copy=False) instead. To opt-in to the future behavior, set `pd.set_option('future.no_silent_downcasting', True)`\n",
      "  df = df.fillna(False)\n"
     ]
    },
    {
     "name": "stdout",
     "output_type": "stream",
     "text": [
      "🔵 Fetching data for: Climbing Chalk\n"
     ]
    },
    {
     "name": "stderr",
     "output_type": "stream",
     "text": [
      "/Users/williamcatt/miniforge3/lib/python3.9/site-packages/pytrends/request.py:260: FutureWarning: Downcasting object dtype arrays on .fillna, .ffill, .bfill is deprecated and will change in a future version. Call result.infer_objects(copy=False) instead. To opt-in to the future behavior, set `pd.set_option('future.no_silent_downcasting', True)`\n",
      "  df = df.fillna(False)\n"
     ]
    },
    {
     "name": "stdout",
     "output_type": "stream",
     "text": [
      "🔵 Fetching data for: Climbing Tape\n"
     ]
    },
    {
     "name": "stderr",
     "output_type": "stream",
     "text": [
      "/Users/williamcatt/miniforge3/lib/python3.9/site-packages/pytrends/request.py:260: FutureWarning: Downcasting object dtype arrays on .fillna, .ffill, .bfill is deprecated and will change in a future version. Call result.infer_objects(copy=False) instead. To opt-in to the future behavior, set `pd.set_option('future.no_silent_downcasting', True)`\n",
      "  df = df.fillna(False)\n"
     ]
    },
    {
     "name": "stdout",
     "output_type": "stream",
     "text": [
      "🔵 Fetching data for: Climbing Shoe Deodoriser\n",
      "🔴 Attempt 1 failed for Climbing Shoe Deodoriser: \"None of [Index(['Climbing Shoe Deodoriser'], dtype='object')] are in the [columns]\" | Retrying in 5s...\n",
      "🔴 Attempt 2 failed for Climbing Shoe Deodoriser: \"None of [Index(['Climbing Shoe Deodoriser'], dtype='object')] are in the [columns]\" | Retrying in 10s...\n",
      "🔴 Attempt 3 failed for Climbing Shoe Deodoriser: \"None of [Index(['Climbing Shoe Deodoriser'], dtype='object')] are in the [columns]\" | Retrying in 15s...\n",
      "🔴 Attempt 4 failed for Climbing Shoe Deodoriser: \"None of [Index(['Climbing Shoe Deodoriser'], dtype='object')] are in the [columns]\" | Retrying in 20s...\n",
      "🔴 Attempt 5 failed for Climbing Shoe Deodoriser: \"None of [Index(['Climbing Shoe Deodoriser'], dtype='object')] are in the [columns]\" | Retrying in 25s...\n"
     ]
    },
    {
     "ename": "KeyboardInterrupt",
     "evalue": "",
     "output_type": "error",
     "traceback": [
      "\u001b[0;31m---------------------------------------------------------------------------\u001b[0m",
      "\u001b[0;31mKeyError\u001b[0m                                  Traceback (most recent call last)",
      "Cell \u001b[0;32mIn[29], line 16\u001b[0m, in \u001b[0;36mfetch_single_term\u001b[0;34m(term, timeframe, max_retries)\u001b[0m\n\u001b[1;32m     15\u001b[0m     df\u001b[38;5;241m.\u001b[39mto_csv(csv_path)\n\u001b[0;32m---> 16\u001b[0m     \u001b[38;5;28;01mreturn\u001b[39;00m \u001b[43mdf\u001b[49m\u001b[43m[\u001b[49m\u001b[43m[\u001b[49m\u001b[43mterm\u001b[49m\u001b[43m]\u001b[49m\u001b[43m]\u001b[49m\n\u001b[1;32m     17\u001b[0m \u001b[38;5;28;01mexcept\u001b[39;00m \u001b[38;5;167;01mException\u001b[39;00m \u001b[38;5;28;01mas\u001b[39;00m e:\n",
      "File \u001b[0;32m~/miniforge3/lib/python3.9/site-packages/pandas/core/frame.py:4096\u001b[0m, in \u001b[0;36mDataFrame.__getitem__\u001b[0;34m(self, key)\u001b[0m\n\u001b[1;32m   4095\u001b[0m         key \u001b[38;5;241m=\u001b[39m \u001b[38;5;28mlist\u001b[39m(key)\n\u001b[0;32m-> 4096\u001b[0m     indexer \u001b[38;5;241m=\u001b[39m \u001b[38;5;28;43mself\u001b[39;49m\u001b[38;5;241;43m.\u001b[39;49m\u001b[43mcolumns\u001b[49m\u001b[38;5;241;43m.\u001b[39;49m\u001b[43m_get_indexer_strict\u001b[49m\u001b[43m(\u001b[49m\u001b[43mkey\u001b[49m\u001b[43m,\u001b[49m\u001b[43m \u001b[49m\u001b[38;5;124;43m\"\u001b[39;49m\u001b[38;5;124;43mcolumns\u001b[39;49m\u001b[38;5;124;43m\"\u001b[39;49m\u001b[43m)\u001b[49m[\u001b[38;5;241m1\u001b[39m]\n\u001b[1;32m   4098\u001b[0m \u001b[38;5;66;03m# take() does not accept boolean indexers\u001b[39;00m\n",
      "File \u001b[0;32m~/miniforge3/lib/python3.9/site-packages/pandas/core/indexes/base.py:6200\u001b[0m, in \u001b[0;36mIndex._get_indexer_strict\u001b[0;34m(self, key, axis_name)\u001b[0m\n\u001b[1;32m   6198\u001b[0m     keyarr, indexer, new_indexer \u001b[38;5;241m=\u001b[39m \u001b[38;5;28mself\u001b[39m\u001b[38;5;241m.\u001b[39m_reindex_non_unique(keyarr)\n\u001b[0;32m-> 6200\u001b[0m \u001b[38;5;28;43mself\u001b[39;49m\u001b[38;5;241;43m.\u001b[39;49m\u001b[43m_raise_if_missing\u001b[49m\u001b[43m(\u001b[49m\u001b[43mkeyarr\u001b[49m\u001b[43m,\u001b[49m\u001b[43m \u001b[49m\u001b[43mindexer\u001b[49m\u001b[43m,\u001b[49m\u001b[43m \u001b[49m\u001b[43maxis_name\u001b[49m\u001b[43m)\u001b[49m\n\u001b[1;32m   6202\u001b[0m keyarr \u001b[38;5;241m=\u001b[39m \u001b[38;5;28mself\u001b[39m\u001b[38;5;241m.\u001b[39mtake(indexer)\n",
      "File \u001b[0;32m~/miniforge3/lib/python3.9/site-packages/pandas/core/indexes/base.py:6249\u001b[0m, in \u001b[0;36mIndex._raise_if_missing\u001b[0;34m(self, key, indexer, axis_name)\u001b[0m\n\u001b[1;32m   6248\u001b[0m \u001b[38;5;28;01mif\u001b[39;00m nmissing \u001b[38;5;241m==\u001b[39m \u001b[38;5;28mlen\u001b[39m(indexer):\n\u001b[0;32m-> 6249\u001b[0m     \u001b[38;5;28;01mraise\u001b[39;00m \u001b[38;5;167;01mKeyError\u001b[39;00m(\u001b[38;5;124mf\u001b[39m\u001b[38;5;124m\"\u001b[39m\u001b[38;5;124mNone of [\u001b[39m\u001b[38;5;132;01m{\u001b[39;00mkey\u001b[38;5;132;01m}\u001b[39;00m\u001b[38;5;124m] are in the [\u001b[39m\u001b[38;5;132;01m{\u001b[39;00maxis_name\u001b[38;5;132;01m}\u001b[39;00m\u001b[38;5;124m]\u001b[39m\u001b[38;5;124m\"\u001b[39m)\n\u001b[1;32m   6251\u001b[0m not_found \u001b[38;5;241m=\u001b[39m \u001b[38;5;28mlist\u001b[39m(ensure_index(key)[missing_mask\u001b[38;5;241m.\u001b[39mnonzero()[\u001b[38;5;241m0\u001b[39m]]\u001b[38;5;241m.\u001b[39munique())\n",
      "\u001b[0;31mKeyError\u001b[0m: \"None of [Index(['Climbing Shoe Deodoriser'], dtype='object')] are in the [columns]\"",
      "\nDuring handling of the above exception, another exception occurred:\n",
      "\u001b[0;31mKeyboardInterrupt\u001b[0m                         Traceback (most recent call last)",
      "Cell \u001b[0;32mIn[29], line 28\u001b[0m\n\u001b[1;32m     25\u001b[0m all_keywords \u001b[38;5;241m=\u001b[39m [kw \u001b[38;5;28;01mfor\u001b[39;00m group \u001b[38;5;129;01min\u001b[39;00m keyword_groups\u001b[38;5;241m.\u001b[39mvalues() \u001b[38;5;28;01mfor\u001b[39;00m kw \u001b[38;5;129;01min\u001b[39;00m group]\n\u001b[1;32m     27\u001b[0m \u001b[38;5;66;03m# Fetch individually\u001b[39;00m\n\u001b[0;32m---> 28\u001b[0m long_term_dataframes \u001b[38;5;241m=\u001b[39m [fetch_single_term(term, timeframe\u001b[38;5;241m=\u001b[39m\u001b[38;5;124m'\u001b[39m\u001b[38;5;124mtoday 12-m\u001b[39m\u001b[38;5;124m'\u001b[39m) \u001b[38;5;28;01mfor\u001b[39;00m term \u001b[38;5;129;01min\u001b[39;00m all_keywords]\n\u001b[1;32m     29\u001b[0m combined_long \u001b[38;5;241m=\u001b[39m pd\u001b[38;5;241m.\u001b[39mconcat(long_term_dataframes, axis\u001b[38;5;241m=\u001b[39m\u001b[38;5;241m1\u001b[39m)\n\u001b[1;32m     31\u001b[0m plt\u001b[38;5;241m.\u001b[39mfigure(figsize\u001b[38;5;241m=\u001b[39m(\u001b[38;5;241m14\u001b[39m, \u001b[38;5;241m7\u001b[39m))\n",
      "Cell \u001b[0;32mIn[29], line 28\u001b[0m, in \u001b[0;36m<listcomp>\u001b[0;34m(.0)\u001b[0m\n\u001b[1;32m     25\u001b[0m all_keywords \u001b[38;5;241m=\u001b[39m [kw \u001b[38;5;28;01mfor\u001b[39;00m group \u001b[38;5;129;01min\u001b[39;00m keyword_groups\u001b[38;5;241m.\u001b[39mvalues() \u001b[38;5;28;01mfor\u001b[39;00m kw \u001b[38;5;129;01min\u001b[39;00m group]\n\u001b[1;32m     27\u001b[0m \u001b[38;5;66;03m# Fetch individually\u001b[39;00m\n\u001b[0;32m---> 28\u001b[0m long_term_dataframes \u001b[38;5;241m=\u001b[39m [\u001b[43mfetch_single_term\u001b[49m\u001b[43m(\u001b[49m\u001b[43mterm\u001b[49m\u001b[43m,\u001b[49m\u001b[43m \u001b[49m\u001b[43mtimeframe\u001b[49m\u001b[38;5;241;43m=\u001b[39;49m\u001b[38;5;124;43m'\u001b[39;49m\u001b[38;5;124;43mtoday 12-m\u001b[39;49m\u001b[38;5;124;43m'\u001b[39;49m\u001b[43m)\u001b[49m \u001b[38;5;28;01mfor\u001b[39;00m term \u001b[38;5;129;01min\u001b[39;00m all_keywords]\n\u001b[1;32m     29\u001b[0m combined_long \u001b[38;5;241m=\u001b[39m pd\u001b[38;5;241m.\u001b[39mconcat(long_term_dataframes, axis\u001b[38;5;241m=\u001b[39m\u001b[38;5;241m1\u001b[39m)\n\u001b[1;32m     31\u001b[0m plt\u001b[38;5;241m.\u001b[39mfigure(figsize\u001b[38;5;241m=\u001b[39m(\u001b[38;5;241m14\u001b[39m, \u001b[38;5;241m7\u001b[39m))\n",
      "Cell \u001b[0;32mIn[29], line 21\u001b[0m, in \u001b[0;36mfetch_single_term\u001b[0;34m(term, timeframe, max_retries)\u001b[0m\n\u001b[1;32m     19\u001b[0m         wait \u001b[38;5;241m=\u001b[39m \u001b[38;5;241m5\u001b[39m \u001b[38;5;241m*\u001b[39m attempt\n\u001b[1;32m     20\u001b[0m         \u001b[38;5;28mprint\u001b[39m(\u001b[38;5;124mf\u001b[39m\u001b[38;5;124m\"\u001b[39m\u001b[38;5;124m🔴 Attempt \u001b[39m\u001b[38;5;132;01m{\u001b[39;00mattempt\u001b[38;5;132;01m}\u001b[39;00m\u001b[38;5;124m failed for \u001b[39m\u001b[38;5;132;01m{\u001b[39;00mterm\u001b[38;5;132;01m}\u001b[39;00m\u001b[38;5;124m: \u001b[39m\u001b[38;5;132;01m{\u001b[39;00me\u001b[38;5;132;01m}\u001b[39;00m\u001b[38;5;124m | Retrying in \u001b[39m\u001b[38;5;132;01m{\u001b[39;00mwait\u001b[38;5;132;01m}\u001b[39;00m\u001b[38;5;124ms...\u001b[39m\u001b[38;5;124m\"\u001b[39m)\n\u001b[0;32m---> 21\u001b[0m         \u001b[43mtime\u001b[49m\u001b[38;5;241;43m.\u001b[39;49m\u001b[43msleep\u001b[49m\u001b[43m(\u001b[49m\u001b[43mwait\u001b[49m\u001b[43m)\u001b[49m\n\u001b[1;32m     22\u001b[0m \u001b[38;5;28;01mreturn\u001b[39;00m pd\u001b[38;5;241m.\u001b[39mDataFrame()\n",
      "\u001b[0;31mKeyboardInterrupt\u001b[0m: "
     ]
    }
   ],
   "source": [
    "def fetch_single_term(term, timeframe='today 3-y', max_retries=5):\n",
    "    safe_term = term.replace(\" \", \"_\")\n",
    "    csv_path = f\"trend_data/{safe_term}_{timeframe.replace(' ', '')}_{today}.csv\"\n",
    "\n",
    "    if os.path.exists(csv_path):\n",
    "        print(f\"🟡 Using cached data for: {term}\")\n",
    "        return pd.read_csv(csv_path, index_col=0, parse_dates=True)\n",
    "\n",
    "    print(f\"🔵 Fetching data for: {term}\")\n",
    "    attempt = 0\n",
    "    while attempt < max_retries:\n",
    "        try:\n",
    "            pytrends.build_payload([term], timeframe=timeframe,)\n",
    "            df = pytrends.interest_over_time().drop(columns='isPartial', errors='ignore')\n",
    "            df.to_csv(csv_path)\n",
    "            return df[[term]]\n",
    "        except Exception as e:\n",
    "            attempt += 1\n",
    "            wait = 5 * attempt\n",
    "            print(f\"🔴 Attempt {attempt} failed for {term}: {e} | Retrying in {wait}s...\")\n",
    "            time.sleep(wait)\n",
    "    return pd.DataFrame()\n",
    "\n",
    "# Flatten all keywords from all groups\n",
    "all_keywords = [kw for group in keyword_groups.values() for kw in group]\n",
    "\n",
    "# Fetch individually\n",
    "long_term_dataframes = [fetch_single_term(term, timeframe='today 2-y') for term in all_keywords]\n",
    "combined_long = pd.concat(long_term_dataframes, axis=1)\n",
    "\n",
    "plt.figure(figsize=(14, 7))\n",
    "for col in combined_long.columns:\n",
    "    plt.plot(combined_long.index, combined_long[col], label=col)\n",
    "\n",
    "plt.title(\"Google Trends: Climbing Product Interest (Past 3 Years)\")\n",
    "plt.xlabel(\"Date\")\n",
    "plt.ylabel(\"Search Interest\")\n",
    "plt.grid(True)\n",
    "plt.legend()\n",
    "plt.tight_layout()\n",
    "plt.show()"
   ]
  },
  {
   "cell_type": "code",
   "execution_count": null,
   "id": "18036905",
   "metadata": {},
   "outputs": [],
   "source": []
  }
 ],
 "metadata": {
  "kernelspec": {
   "display_name": "Python 3",
   "language": "python",
   "name": "python3"
  },
  "language_info": {
   "codemirror_mode": {
    "name": "ipython",
    "version": 3
   },
   "file_extension": ".py",
   "mimetype": "text/x-python",
   "name": "python",
   "nbconvert_exporter": "python",
   "pygments_lexer": "ipython3",
   "version": "3.9.13"
  }
 },
 "nbformat": 4,
 "nbformat_minor": 5
}
