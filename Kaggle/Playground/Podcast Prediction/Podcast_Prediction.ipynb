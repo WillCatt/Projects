{
 "cells": [
  {
   "cell_type": "markdown",
   "metadata": {},
   "source": [
    "# Kaggle Playground Season 5 Episode 2: Podcast Listening Time Prediction"
   ]
  },
  {
   "cell_type": "markdown",
   "metadata": {},
   "source": [
    "# Imports"
   ]
  },
  {
   "cell_type": "code",
   "execution_count": null,
   "metadata": {},
   "outputs": [],
   "source": [
    "# !pip install missingno\n",
    "# !pip install sweetviz"
   ]
  },
  {
   "cell_type": "code",
   "execution_count": 4,
   "metadata": {},
   "outputs": [],
   "source": [
    "import pandas as pd\n",
    "import missingno as msno\n",
    "import matplotlib.pyplot as plt\n",
    "import seaborn as sns\n",
    "import numpy as np\n",
    "import plotly.express as px\n",
    "import sweetviz as sv\n",
    "\n",
    "# from ydata_profiling import ProfileReport\n"
   ]
  },
  {
   "cell_type": "markdown",
   "metadata": {},
   "source": [
    "# Data Loading"
   ]
  },
  {
   "cell_type": "code",
   "execution_count": 5,
   "metadata": {},
   "outputs": [
    {
     "data": {
      "text/html": [
       "<div>\n",
       "<style scoped>\n",
       "    .dataframe tbody tr th:only-of-type {\n",
       "        vertical-align: middle;\n",
       "    }\n",
       "\n",
       "    .dataframe tbody tr th {\n",
       "        vertical-align: top;\n",
       "    }\n",
       "\n",
       "    .dataframe thead th {\n",
       "        text-align: right;\n",
       "    }\n",
       "</style>\n",
       "<table border=\"1\" class=\"dataframe\">\n",
       "  <thead>\n",
       "    <tr style=\"text-align: right;\">\n",
       "      <th></th>\n",
       "      <th>id</th>\n",
       "      <th>Podcast_Name</th>\n",
       "      <th>Episode_Title</th>\n",
       "      <th>Episode_Length_minutes</th>\n",
       "      <th>Genre</th>\n",
       "      <th>Host_Popularity_percentage</th>\n",
       "      <th>Publication_Day</th>\n",
       "      <th>Publication_Time</th>\n",
       "      <th>Guest_Popularity_percentage</th>\n",
       "      <th>Number_of_Ads</th>\n",
       "      <th>Episode_Sentiment</th>\n",
       "      <th>Listening_Time_minutes</th>\n",
       "    </tr>\n",
       "  </thead>\n",
       "  <tbody>\n",
       "    <tr>\n",
       "      <th>0</th>\n",
       "      <td>0</td>\n",
       "      <td>Mystery Matters</td>\n",
       "      <td>Episode 98</td>\n",
       "      <td>NaN</td>\n",
       "      <td>True Crime</td>\n",
       "      <td>74.81</td>\n",
       "      <td>Thursday</td>\n",
       "      <td>Night</td>\n",
       "      <td>NaN</td>\n",
       "      <td>0.0</td>\n",
       "      <td>Positive</td>\n",
       "      <td>31.41998</td>\n",
       "    </tr>\n",
       "    <tr>\n",
       "      <th>1</th>\n",
       "      <td>1</td>\n",
       "      <td>Joke Junction</td>\n",
       "      <td>Episode 26</td>\n",
       "      <td>119.80</td>\n",
       "      <td>Comedy</td>\n",
       "      <td>66.95</td>\n",
       "      <td>Saturday</td>\n",
       "      <td>Afternoon</td>\n",
       "      <td>75.95</td>\n",
       "      <td>2.0</td>\n",
       "      <td>Negative</td>\n",
       "      <td>88.01241</td>\n",
       "    </tr>\n",
       "    <tr>\n",
       "      <th>2</th>\n",
       "      <td>2</td>\n",
       "      <td>Study Sessions</td>\n",
       "      <td>Episode 16</td>\n",
       "      <td>73.90</td>\n",
       "      <td>Education</td>\n",
       "      <td>69.97</td>\n",
       "      <td>Tuesday</td>\n",
       "      <td>Evening</td>\n",
       "      <td>8.97</td>\n",
       "      <td>0.0</td>\n",
       "      <td>Negative</td>\n",
       "      <td>44.92531</td>\n",
       "    </tr>\n",
       "    <tr>\n",
       "      <th>3</th>\n",
       "      <td>3</td>\n",
       "      <td>Digital Digest</td>\n",
       "      <td>Episode 45</td>\n",
       "      <td>67.17</td>\n",
       "      <td>Technology</td>\n",
       "      <td>57.22</td>\n",
       "      <td>Monday</td>\n",
       "      <td>Morning</td>\n",
       "      <td>78.70</td>\n",
       "      <td>2.0</td>\n",
       "      <td>Positive</td>\n",
       "      <td>46.27824</td>\n",
       "    </tr>\n",
       "    <tr>\n",
       "      <th>4</th>\n",
       "      <td>4</td>\n",
       "      <td>Mind &amp; Body</td>\n",
       "      <td>Episode 86</td>\n",
       "      <td>110.51</td>\n",
       "      <td>Health</td>\n",
       "      <td>80.07</td>\n",
       "      <td>Monday</td>\n",
       "      <td>Afternoon</td>\n",
       "      <td>58.68</td>\n",
       "      <td>3.0</td>\n",
       "      <td>Neutral</td>\n",
       "      <td>75.61031</td>\n",
       "    </tr>\n",
       "    <tr>\n",
       "      <th>...</th>\n",
       "      <td>...</td>\n",
       "      <td>...</td>\n",
       "      <td>...</td>\n",
       "      <td>...</td>\n",
       "      <td>...</td>\n",
       "      <td>...</td>\n",
       "      <td>...</td>\n",
       "      <td>...</td>\n",
       "      <td>...</td>\n",
       "      <td>...</td>\n",
       "      <td>...</td>\n",
       "      <td>...</td>\n",
       "    </tr>\n",
       "    <tr>\n",
       "      <th>749995</th>\n",
       "      <td>749995</td>\n",
       "      <td>Learning Lab</td>\n",
       "      <td>Episode 25</td>\n",
       "      <td>75.66</td>\n",
       "      <td>Education</td>\n",
       "      <td>69.36</td>\n",
       "      <td>Saturday</td>\n",
       "      <td>Morning</td>\n",
       "      <td>NaN</td>\n",
       "      <td>0.0</td>\n",
       "      <td>Negative</td>\n",
       "      <td>56.87058</td>\n",
       "    </tr>\n",
       "    <tr>\n",
       "      <th>749996</th>\n",
       "      <td>749996</td>\n",
       "      <td>Business Briefs</td>\n",
       "      <td>Episode 21</td>\n",
       "      <td>75.75</td>\n",
       "      <td>Business</td>\n",
       "      <td>35.21</td>\n",
       "      <td>Saturday</td>\n",
       "      <td>Night</td>\n",
       "      <td>NaN</td>\n",
       "      <td>2.0</td>\n",
       "      <td>Neutral</td>\n",
       "      <td>45.46242</td>\n",
       "    </tr>\n",
       "    <tr>\n",
       "      <th>749997</th>\n",
       "      <td>749997</td>\n",
       "      <td>Lifestyle Lounge</td>\n",
       "      <td>Episode 51</td>\n",
       "      <td>30.98</td>\n",
       "      <td>Lifestyle</td>\n",
       "      <td>78.58</td>\n",
       "      <td>Thursday</td>\n",
       "      <td>Morning</td>\n",
       "      <td>84.89</td>\n",
       "      <td>0.0</td>\n",
       "      <td>Negative</td>\n",
       "      <td>15.26000</td>\n",
       "    </tr>\n",
       "    <tr>\n",
       "      <th>749998</th>\n",
       "      <td>749998</td>\n",
       "      <td>Style Guide</td>\n",
       "      <td>Episode 47</td>\n",
       "      <td>108.98</td>\n",
       "      <td>Lifestyle</td>\n",
       "      <td>45.39</td>\n",
       "      <td>Thursday</td>\n",
       "      <td>Morning</td>\n",
       "      <td>93.27</td>\n",
       "      <td>0.0</td>\n",
       "      <td>Negative</td>\n",
       "      <td>100.72939</td>\n",
       "    </tr>\n",
       "    <tr>\n",
       "      <th>749999</th>\n",
       "      <td>749999</td>\n",
       "      <td>Sports Central</td>\n",
       "      <td>Episode 99</td>\n",
       "      <td>24.10</td>\n",
       "      <td>Sports</td>\n",
       "      <td>22.45</td>\n",
       "      <td>Saturday</td>\n",
       "      <td>Night</td>\n",
       "      <td>36.72</td>\n",
       "      <td>0.0</td>\n",
       "      <td>Neutral</td>\n",
       "      <td>11.94439</td>\n",
       "    </tr>\n",
       "  </tbody>\n",
       "</table>\n",
       "<p>750000 rows × 12 columns</p>\n",
       "</div>"
      ],
      "text/plain": [
       "            id      Podcast_Name Episode_Title  Episode_Length_minutes  \\\n",
       "0            0   Mystery Matters    Episode 98                     NaN   \n",
       "1            1     Joke Junction    Episode 26                  119.80   \n",
       "2            2    Study Sessions    Episode 16                   73.90   \n",
       "3            3    Digital Digest    Episode 45                   67.17   \n",
       "4            4       Mind & Body    Episode 86                  110.51   \n",
       "...        ...               ...           ...                     ...   \n",
       "749995  749995      Learning Lab    Episode 25                   75.66   \n",
       "749996  749996   Business Briefs    Episode 21                   75.75   \n",
       "749997  749997  Lifestyle Lounge    Episode 51                   30.98   \n",
       "749998  749998       Style Guide    Episode 47                  108.98   \n",
       "749999  749999    Sports Central    Episode 99                   24.10   \n",
       "\n",
       "             Genre  Host_Popularity_percentage Publication_Day  \\\n",
       "0       True Crime                       74.81        Thursday   \n",
       "1           Comedy                       66.95        Saturday   \n",
       "2        Education                       69.97         Tuesday   \n",
       "3       Technology                       57.22          Monday   \n",
       "4           Health                       80.07          Monday   \n",
       "...            ...                         ...             ...   \n",
       "749995   Education                       69.36        Saturday   \n",
       "749996    Business                       35.21        Saturday   \n",
       "749997   Lifestyle                       78.58        Thursday   \n",
       "749998   Lifestyle                       45.39        Thursday   \n",
       "749999      Sports                       22.45        Saturday   \n",
       "\n",
       "       Publication_Time  Guest_Popularity_percentage  Number_of_Ads  \\\n",
       "0                 Night                          NaN            0.0   \n",
       "1             Afternoon                        75.95            2.0   \n",
       "2               Evening                         8.97            0.0   \n",
       "3               Morning                        78.70            2.0   \n",
       "4             Afternoon                        58.68            3.0   \n",
       "...                 ...                          ...            ...   \n",
       "749995          Morning                          NaN            0.0   \n",
       "749996            Night                          NaN            2.0   \n",
       "749997          Morning                        84.89            0.0   \n",
       "749998          Morning                        93.27            0.0   \n",
       "749999            Night                        36.72            0.0   \n",
       "\n",
       "       Episode_Sentiment  Listening_Time_minutes  \n",
       "0               Positive                31.41998  \n",
       "1               Negative                88.01241  \n",
       "2               Negative                44.92531  \n",
       "3               Positive                46.27824  \n",
       "4                Neutral                75.61031  \n",
       "...                  ...                     ...  \n",
       "749995          Negative                56.87058  \n",
       "749996           Neutral                45.46242  \n",
       "749997          Negative                15.26000  \n",
       "749998          Negative               100.72939  \n",
       "749999           Neutral                11.94439  \n",
       "\n",
       "[750000 rows x 12 columns]"
      ]
     },
     "execution_count": 5,
     "metadata": {},
     "output_type": "execute_result"
    }
   ],
   "source": [
    "train = pd.read_csv('train.csv')\n",
    "train"
   ]
  },
  {
   "cell_type": "markdown",
   "metadata": {},
   "source": [
    "# Data Description\n",
    "## First Impression\n",
    "1. ID - Useless this is for prediction\n",
    "2. Podcast Name - Maybe certain podcasts have more dedicated viewers, maybe some have less dedicated video (Niche podcasts [Dedicated] vs General podcasts)\n",
    "3. Episode Title - Perhaps Useless > Charts will help > maybe episode 1 has lower %listening time\n",
    "4. Episode Length - This looks like it'll be the strongest variable.\n",
    "5. Genre - Maybe similar to podcast name?\n",
    "6. Host Popularity Percentage - Might be useful > Charts will help (Maybe needs to be used in conjuction to guest popularity) a x b\n",
    "7. Publication Day - My initial thoughts is that this should have no impact\n",
    "8. Publication Time - My initial thoughts is that this also should have no impact\n",
    "9. Guest Popularity Percentage - Similar with host -- new idea that maybe you take the higher value of whatevers offered...? or lower ? >> I.e. My favourite podcast host is Taylor swift (yay!) but she is doing a podcast with Elon must (boo!) will my distaste for Elon trump my love for Taylor Swift?\n",
    "10. Number of Ads - Might be bad, but also could be an indication that a podcast is successful that is has ads . . .\n",
    "11. Episode Sentiment - Is it talking about what people thought, or the vibe of the pod? If so, it may explain itself.\n",
    "12. Listening Time Minutes - Outcome variable.\n"
   ]
  },
  {
   "cell_type": "markdown",
   "metadata": {},
   "source": [
    "# Data Exploration"
   ]
  },
  {
   "cell_type": "code",
   "execution_count": 6,
   "metadata": {},
   "outputs": [
    {
     "data": {
      "text/html": [
       "<div>\n",
       "<style scoped>\n",
       "    .dataframe tbody tr th:only-of-type {\n",
       "        vertical-align: middle;\n",
       "    }\n",
       "\n",
       "    .dataframe tbody tr th {\n",
       "        vertical-align: top;\n",
       "    }\n",
       "\n",
       "    .dataframe thead th {\n",
       "        text-align: right;\n",
       "    }\n",
       "</style>\n",
       "<table border=\"1\" class=\"dataframe\">\n",
       "  <thead>\n",
       "    <tr style=\"text-align: right;\">\n",
       "      <th></th>\n",
       "      <th>id</th>\n",
       "      <th>Podcast_Name</th>\n",
       "      <th>Episode_Title</th>\n",
       "      <th>Episode_Length_minutes</th>\n",
       "      <th>Genre</th>\n",
       "      <th>Host_Popularity_percentage</th>\n",
       "      <th>Publication_Day</th>\n",
       "      <th>Publication_Time</th>\n",
       "      <th>Guest_Popularity_percentage</th>\n",
       "      <th>Number_of_Ads</th>\n",
       "      <th>Episode_Sentiment</th>\n",
       "      <th>Listening_Time_minutes</th>\n",
       "    </tr>\n",
       "  </thead>\n",
       "  <tbody>\n",
       "    <tr>\n",
       "      <th>103785</th>\n",
       "      <td>103785</td>\n",
       "      <td>Comedy Corner</td>\n",
       "      <td>Episode 82</td>\n",
       "      <td>56.46</td>\n",
       "      <td>Comedy</td>\n",
       "      <td>50.63</td>\n",
       "      <td>Thursday</td>\n",
       "      <td>Afternoon</td>\n",
       "      <td>79.56</td>\n",
       "      <td>2.0</td>\n",
       "      <td>Neutral</td>\n",
       "      <td>26.88779</td>\n",
       "    </tr>\n",
       "    <tr>\n",
       "      <th>353422</th>\n",
       "      <td>353422</td>\n",
       "      <td>Home &amp; Living</td>\n",
       "      <td>Episode 90</td>\n",
       "      <td>72.65</td>\n",
       "      <td>Lifestyle</td>\n",
       "      <td>69.57</td>\n",
       "      <td>Wednesday</td>\n",
       "      <td>Night</td>\n",
       "      <td>34.20</td>\n",
       "      <td>1.0</td>\n",
       "      <td>Positive</td>\n",
       "      <td>55.69271</td>\n",
       "    </tr>\n",
       "    <tr>\n",
       "      <th>479087</th>\n",
       "      <td>479087</td>\n",
       "      <td>Tune Time</td>\n",
       "      <td>Episode 38</td>\n",
       "      <td>42.89</td>\n",
       "      <td>Music</td>\n",
       "      <td>68.36</td>\n",
       "      <td>Sunday</td>\n",
       "      <td>Night</td>\n",
       "      <td>40.59</td>\n",
       "      <td>0.0</td>\n",
       "      <td>Negative</td>\n",
       "      <td>27.94118</td>\n",
       "    </tr>\n",
       "    <tr>\n",
       "      <th>158987</th>\n",
       "      <td>158987</td>\n",
       "      <td>Business Insights</td>\n",
       "      <td>Episode 81</td>\n",
       "      <td>75.95</td>\n",
       "      <td>Business</td>\n",
       "      <td>47.61</td>\n",
       "      <td>Sunday</td>\n",
       "      <td>Evening</td>\n",
       "      <td>62.61</td>\n",
       "      <td>1.0</td>\n",
       "      <td>Neutral</td>\n",
       "      <td>42.62324</td>\n",
       "    </tr>\n",
       "    <tr>\n",
       "      <th>574098</th>\n",
       "      <td>574098</td>\n",
       "      <td>Current Affairs</td>\n",
       "      <td>Episode 13</td>\n",
       "      <td>20.03</td>\n",
       "      <td>News</td>\n",
       "      <td>63.67</td>\n",
       "      <td>Tuesday</td>\n",
       "      <td>Evening</td>\n",
       "      <td>NaN</td>\n",
       "      <td>0.0</td>\n",
       "      <td>Neutral</td>\n",
       "      <td>13.91035</td>\n",
       "    </tr>\n",
       "    <tr>\n",
       "      <th>569124</th>\n",
       "      <td>569124</td>\n",
       "      <td>Study Sessions</td>\n",
       "      <td>Episode 97</td>\n",
       "      <td>52.42</td>\n",
       "      <td>Education</td>\n",
       "      <td>92.83</td>\n",
       "      <td>Wednesday</td>\n",
       "      <td>Afternoon</td>\n",
       "      <td>44.66</td>\n",
       "      <td>1.0</td>\n",
       "      <td>Positive</td>\n",
       "      <td>39.75039</td>\n",
       "    </tr>\n",
       "    <tr>\n",
       "      <th>406893</th>\n",
       "      <td>406893</td>\n",
       "      <td>Athlete's Arena</td>\n",
       "      <td>Episode 32</td>\n",
       "      <td>48.12</td>\n",
       "      <td>Sports</td>\n",
       "      <td>39.19</td>\n",
       "      <td>Friday</td>\n",
       "      <td>Afternoon</td>\n",
       "      <td>55.90</td>\n",
       "      <td>1.0</td>\n",
       "      <td>Negative</td>\n",
       "      <td>29.39000</td>\n",
       "    </tr>\n",
       "    <tr>\n",
       "      <th>601344</th>\n",
       "      <td>601344</td>\n",
       "      <td>Tech Talks</td>\n",
       "      <td>Episode 77</td>\n",
       "      <td>6.33</td>\n",
       "      <td>Technology</td>\n",
       "      <td>38.23</td>\n",
       "      <td>Thursday</td>\n",
       "      <td>Afternoon</td>\n",
       "      <td>81.04</td>\n",
       "      <td>2.0</td>\n",
       "      <td>Positive</td>\n",
       "      <td>5.18000</td>\n",
       "    </tr>\n",
       "    <tr>\n",
       "      <th>170548</th>\n",
       "      <td>170548</td>\n",
       "      <td>Digital Digest</td>\n",
       "      <td>Episode 32</td>\n",
       "      <td>88.51</td>\n",
       "      <td>Technology</td>\n",
       "      <td>57.22</td>\n",
       "      <td>Tuesday</td>\n",
       "      <td>Night</td>\n",
       "      <td>NaN</td>\n",
       "      <td>0.0</td>\n",
       "      <td>Neutral</td>\n",
       "      <td>65.02621</td>\n",
       "    </tr>\n",
       "    <tr>\n",
       "      <th>58127</th>\n",
       "      <td>58127</td>\n",
       "      <td>Criminal Minds</td>\n",
       "      <td>Episode 73</td>\n",
       "      <td>33.95</td>\n",
       "      <td>True Crime</td>\n",
       "      <td>95.84</td>\n",
       "      <td>Friday</td>\n",
       "      <td>Afternoon</td>\n",
       "      <td>2.44</td>\n",
       "      <td>1.0</td>\n",
       "      <td>Positive</td>\n",
       "      <td>20.20244</td>\n",
       "    </tr>\n",
       "  </tbody>\n",
       "</table>\n",
       "</div>"
      ],
      "text/plain": [
       "            id       Podcast_Name Episode_Title  Episode_Length_minutes  \\\n",
       "103785  103785      Comedy Corner    Episode 82                   56.46   \n",
       "353422  353422      Home & Living    Episode 90                   72.65   \n",
       "479087  479087          Tune Time    Episode 38                   42.89   \n",
       "158987  158987  Business Insights    Episode 81                   75.95   \n",
       "574098  574098    Current Affairs    Episode 13                   20.03   \n",
       "569124  569124     Study Sessions    Episode 97                   52.42   \n",
       "406893  406893    Athlete's Arena    Episode 32                   48.12   \n",
       "601344  601344         Tech Talks    Episode 77                    6.33   \n",
       "170548  170548     Digital Digest    Episode 32                   88.51   \n",
       "58127    58127     Criminal Minds    Episode 73                   33.95   \n",
       "\n",
       "             Genre  Host_Popularity_percentage Publication_Day  \\\n",
       "103785      Comedy                       50.63        Thursday   \n",
       "353422   Lifestyle                       69.57       Wednesday   \n",
       "479087       Music                       68.36          Sunday   \n",
       "158987    Business                       47.61          Sunday   \n",
       "574098        News                       63.67         Tuesday   \n",
       "569124   Education                       92.83       Wednesday   \n",
       "406893      Sports                       39.19          Friday   \n",
       "601344  Technology                       38.23        Thursday   \n",
       "170548  Technology                       57.22         Tuesday   \n",
       "58127   True Crime                       95.84          Friday   \n",
       "\n",
       "       Publication_Time  Guest_Popularity_percentage  Number_of_Ads  \\\n",
       "103785        Afternoon                        79.56            2.0   \n",
       "353422            Night                        34.20            1.0   \n",
       "479087            Night                        40.59            0.0   \n",
       "158987          Evening                        62.61            1.0   \n",
       "574098          Evening                          NaN            0.0   \n",
       "569124        Afternoon                        44.66            1.0   \n",
       "406893        Afternoon                        55.90            1.0   \n",
       "601344        Afternoon                        81.04            2.0   \n",
       "170548            Night                          NaN            0.0   \n",
       "58127         Afternoon                         2.44            1.0   \n",
       "\n",
       "       Episode_Sentiment  Listening_Time_minutes  \n",
       "103785           Neutral                26.88779  \n",
       "353422          Positive                55.69271  \n",
       "479087          Negative                27.94118  \n",
       "158987           Neutral                42.62324  \n",
       "574098           Neutral                13.91035  \n",
       "569124          Positive                39.75039  \n",
       "406893          Negative                29.39000  \n",
       "601344          Positive                 5.18000  \n",
       "170548           Neutral                65.02621  \n",
       "58127           Positive                20.20244  "
      ]
     },
     "execution_count": 6,
     "metadata": {},
     "output_type": "execute_result"
    }
   ],
   "source": [
    "train.sample(10)"
   ]
  },
  {
   "cell_type": "markdown",
   "metadata": {},
   "source": [
    "#### A Random Sample of 10, shows some missing values, lets look deeply into missing values, and perhaps look into imputation"
   ]
  },
  {
   "cell_type": "code",
   "execution_count": 7,
   "metadata": {},
   "outputs": [
    {
     "data": {
      "text/plain": [
       "<Axes: >"
      ]
     },
     "execution_count": 7,
     "metadata": {},
     "output_type": "execute_result"
    },
    {
     "data": {
      "image/png": "[encoded data removed]",
      "text/plain": [
       "<Figure size 2500x1000 with 2 Axes>"
      ]
     },
     "metadata": {},
     "output_type": "display_data"
    }
   ],
   "source": [
    "msno.matrix(train)"
   ]
  },
  {
   "cell_type": "markdown",
   "metadata": {},
   "source": [
    "**Guest Popularity Percent**: This might be missing due to the absense of a guest? Not sure how it would be imputed > == Host popularity maybe ?\n",
    "\n",
    "**Episode Length Minutes**: Complicated. Firstly, if listening time is also 0, maybe the whole thing can be dropped? Another idea after the next\n",
    "\n",
    "Impute the average based on a matching podcast name? Priority podcast name? no match genre? [[explore the data in depth before making a decision]]"
   ]
  },
  {
   "cell_type": "code",
   "execution_count": 8,
   "metadata": {},
   "outputs": [
    {
     "data": {
      "text/html": [
       "<div>\n",
       "<style scoped>\n",
       "    .dataframe tbody tr th:only-of-type {\n",
       "        vertical-align: middle;\n",
       "    }\n",
       "\n",
       "    .dataframe tbody tr th {\n",
       "        vertical-align: top;\n",
       "    }\n",
       "\n",
       "    .dataframe thead th {\n",
       "        text-align: right;\n",
       "    }\n",
       "</style>\n",
       "<table border=\"1\" class=\"dataframe\">\n",
       "  <thead>\n",
       "    <tr style=\"text-align: right;\">\n",
       "      <th></th>\n",
       "      <th>id</th>\n",
       "      <th>Podcast_Name</th>\n",
       "      <th>Episode_Title</th>\n",
       "      <th>Episode_Length_minutes</th>\n",
       "      <th>Genre</th>\n",
       "      <th>Host_Popularity_percentage</th>\n",
       "      <th>Publication_Day</th>\n",
       "      <th>Publication_Time</th>\n",
       "      <th>Guest_Popularity_percentage</th>\n",
       "      <th>Number_of_Ads</th>\n",
       "      <th>Episode_Sentiment</th>\n",
       "      <th>Listening_Time_minutes</th>\n",
       "    </tr>\n",
       "  </thead>\n",
       "  <tbody>\n",
       "    <tr>\n",
       "      <th>0</th>\n",
       "      <td>0</td>\n",
       "      <td>Mystery Matters</td>\n",
       "      <td>Episode 98</td>\n",
       "      <td>NaN</td>\n",
       "      <td>True Crime</td>\n",
       "      <td>74.81</td>\n",
       "      <td>Thursday</td>\n",
       "      <td>Night</td>\n",
       "      <td>NaN</td>\n",
       "      <td>0.0</td>\n",
       "      <td>Positive</td>\n",
       "      <td>31.41998</td>\n",
       "    </tr>\n",
       "    <tr>\n",
       "      <th>9</th>\n",
       "      <td>9</td>\n",
       "      <td>Music Matters</td>\n",
       "      <td>Episode 81</td>\n",
       "      <td>NaN</td>\n",
       "      <td>Music</td>\n",
       "      <td>82.18</td>\n",
       "      <td>Thursday</td>\n",
       "      <td>Night</td>\n",
       "      <td>59.72</td>\n",
       "      <td>3.0</td>\n",
       "      <td>Neutral</td>\n",
       "      <td>45.94761</td>\n",
       "    </tr>\n",
       "    <tr>\n",
       "      <th>29</th>\n",
       "      <td>29</td>\n",
       "      <td>Health Hour</td>\n",
       "      <td>Episode 38</td>\n",
       "      <td>NaN</td>\n",
       "      <td>Health</td>\n",
       "      <td>45.97</td>\n",
       "      <td>Saturday</td>\n",
       "      <td>Evening</td>\n",
       "      <td>15.43</td>\n",
       "      <td>1.0</td>\n",
       "      <td>Negative</td>\n",
       "      <td>25.38384</td>\n",
       "    </tr>\n",
       "    <tr>\n",
       "      <th>43</th>\n",
       "      <td>43</td>\n",
       "      <td>Funny Folks</td>\n",
       "      <td>Episode 93</td>\n",
       "      <td>NaN</td>\n",
       "      <td>Comedy</td>\n",
       "      <td>33.02</td>\n",
       "      <td>Saturday</td>\n",
       "      <td>Afternoon</td>\n",
       "      <td>64.70</td>\n",
       "      <td>2.0</td>\n",
       "      <td>Positive</td>\n",
       "      <td>35.11072</td>\n",
       "    </tr>\n",
       "    <tr>\n",
       "      <th>49</th>\n",
       "      <td>49</td>\n",
       "      <td>Style Guide</td>\n",
       "      <td>Episode 75</td>\n",
       "      <td>NaN</td>\n",
       "      <td>Lifestyle</td>\n",
       "      <td>78.82</td>\n",
       "      <td>Saturday</td>\n",
       "      <td>Morning</td>\n",
       "      <td>NaN</td>\n",
       "      <td>2.0</td>\n",
       "      <td>Positive</td>\n",
       "      <td>24.40379</td>\n",
       "    </tr>\n",
       "    <tr>\n",
       "      <th>...</th>\n",
       "      <td>...</td>\n",
       "      <td>...</td>\n",
       "      <td>...</td>\n",
       "      <td>...</td>\n",
       "      <td>...</td>\n",
       "      <td>...</td>\n",
       "      <td>...</td>\n",
       "      <td>...</td>\n",
       "      <td>...</td>\n",
       "      <td>...</td>\n",
       "      <td>...</td>\n",
       "      <td>...</td>\n",
       "    </tr>\n",
       "    <tr>\n",
       "      <th>749926</th>\n",
       "      <td>749926</td>\n",
       "      <td>Current Affairs</td>\n",
       "      <td>Episode 48</td>\n",
       "      <td>NaN</td>\n",
       "      <td>News</td>\n",
       "      <td>78.14</td>\n",
       "      <td>Thursday</td>\n",
       "      <td>Afternoon</td>\n",
       "      <td>50.88</td>\n",
       "      <td>3.0</td>\n",
       "      <td>Positive</td>\n",
       "      <td>14.67000</td>\n",
       "    </tr>\n",
       "    <tr>\n",
       "      <th>749936</th>\n",
       "      <td>749936</td>\n",
       "      <td>Melody Mix</td>\n",
       "      <td>Episode 7</td>\n",
       "      <td>NaN</td>\n",
       "      <td>Music</td>\n",
       "      <td>29.15</td>\n",
       "      <td>Sunday</td>\n",
       "      <td>Afternoon</td>\n",
       "      <td>NaN</td>\n",
       "      <td>0.0</td>\n",
       "      <td>Negative</td>\n",
       "      <td>47.79899</td>\n",
       "    </tr>\n",
       "    <tr>\n",
       "      <th>749943</th>\n",
       "      <td>749943</td>\n",
       "      <td>World Watch</td>\n",
       "      <td>Episode 42</td>\n",
       "      <td>NaN</td>\n",
       "      <td>News</td>\n",
       "      <td>80.46</td>\n",
       "      <td>Saturday</td>\n",
       "      <td>Afternoon</td>\n",
       "      <td>15.18</td>\n",
       "      <td>1.0</td>\n",
       "      <td>Neutral</td>\n",
       "      <td>80.42861</td>\n",
       "    </tr>\n",
       "    <tr>\n",
       "      <th>749954</th>\n",
       "      <td>749954</td>\n",
       "      <td>Life Lessons</td>\n",
       "      <td>Episode 54</td>\n",
       "      <td>NaN</td>\n",
       "      <td>Lifestyle</td>\n",
       "      <td>59.31</td>\n",
       "      <td>Tuesday</td>\n",
       "      <td>Night</td>\n",
       "      <td>44.94</td>\n",
       "      <td>2.0</td>\n",
       "      <td>Neutral</td>\n",
       "      <td>99.33292</td>\n",
       "    </tr>\n",
       "    <tr>\n",
       "      <th>749984</th>\n",
       "      <td>749984</td>\n",
       "      <td>Game Day</td>\n",
       "      <td>Episode 13</td>\n",
       "      <td>NaN</td>\n",
       "      <td>Sports</td>\n",
       "      <td>70.22</td>\n",
       "      <td>Tuesday</td>\n",
       "      <td>Evening</td>\n",
       "      <td>53.74</td>\n",
       "      <td>1.0</td>\n",
       "      <td>Positive</td>\n",
       "      <td>37.26790</td>\n",
       "    </tr>\n",
       "  </tbody>\n",
       "</table>\n",
       "<p>87093 rows × 12 columns</p>\n",
       "</div>"
      ],
      "text/plain": [
       "            id     Podcast_Name Episode_Title  Episode_Length_minutes  \\\n",
       "0            0  Mystery Matters    Episode 98                     NaN   \n",
       "9            9    Music Matters    Episode 81                     NaN   \n",
       "29          29      Health Hour    Episode 38                     NaN   \n",
       "43          43      Funny Folks    Episode 93                     NaN   \n",
       "49          49      Style Guide    Episode 75                     NaN   \n",
       "...        ...              ...           ...                     ...   \n",
       "749926  749926  Current Affairs    Episode 48                     NaN   \n",
       "749936  749936       Melody Mix     Episode 7                     NaN   \n",
       "749943  749943      World Watch    Episode 42                     NaN   \n",
       "749954  749954     Life Lessons    Episode 54                     NaN   \n",
       "749984  749984         Game Day    Episode 13                     NaN   \n",
       "\n",
       "             Genre  Host_Popularity_percentage Publication_Day  \\\n",
       "0       True Crime                       74.81        Thursday   \n",
       "9            Music                       82.18        Thursday   \n",
       "29          Health                       45.97        Saturday   \n",
       "43          Comedy                       33.02        Saturday   \n",
       "49       Lifestyle                       78.82        Saturday   \n",
       "...            ...                         ...             ...   \n",
       "749926        News                       78.14        Thursday   \n",
       "749936       Music                       29.15          Sunday   \n",
       "749943        News                       80.46        Saturday   \n",
       "749954   Lifestyle                       59.31         Tuesday   \n",
       "749984      Sports                       70.22         Tuesday   \n",
       "\n",
       "       Publication_Time  Guest_Popularity_percentage  Number_of_Ads  \\\n",
       "0                 Night                          NaN            0.0   \n",
       "9                 Night                        59.72            3.0   \n",
       "29              Evening                        15.43            1.0   \n",
       "43            Afternoon                        64.70            2.0   \n",
       "49              Morning                          NaN            2.0   \n",
       "...                 ...                          ...            ...   \n",
       "749926        Afternoon                        50.88            3.0   \n",
       "749936        Afternoon                          NaN            0.0   \n",
       "749943        Afternoon                        15.18            1.0   \n",
       "749954            Night                        44.94            2.0   \n",
       "749984          Evening                        53.74            1.0   \n",
       "\n",
       "       Episode_Sentiment  Listening_Time_minutes  \n",
       "0               Positive                31.41998  \n",
       "9                Neutral                45.94761  \n",
       "29              Negative                25.38384  \n",
       "43              Positive                35.11072  \n",
       "49              Positive                24.40379  \n",
       "...                  ...                     ...  \n",
       "749926          Positive                14.67000  \n",
       "749936          Negative                47.79899  \n",
       "749943           Neutral                80.42861  \n",
       "749954           Neutral                99.33292  \n",
       "749984          Positive                37.26790  \n",
       "\n",
       "[87093 rows x 12 columns]"
      ]
     },
     "execution_count": 8,
     "metadata": {},
     "output_type": "execute_result"
    }
   ],
   "source": [
    "train[train['Episode_Length_minutes'].isna()]"
   ]
  },
  {
   "cell_type": "code",
   "execution_count": 9,
   "metadata": {},
   "outputs": [
    {
     "data": {
      "text/plain": [
       "<pandas.core.groupby.generic.DataFrameGroupBy object at 0x11c329c70>"
      ]
     },
     "execution_count": 9,
     "metadata": {},
     "output_type": "execute_result"
    }
   ],
   "source": [
    "dupe_rows = train[train.duplicated(subset=[\"Podcast_Name\", \"Episode_Title\"], keep=False)]\n",
    "grouped_dupes = dupe_rows.groupby([\"Podcast_Name\", \"Episode_Title\"])\n",
    "grouped_dupes"
   ]
  },
  {
   "cell_type": "code",
   "execution_count": 11,
   "metadata": {},
   "outputs": [
    {
     "data": {
      "application/vnd.plotly.v1+json": {
       "config": {
        "plotlyServerURL": "https://plotly.com"
       },
       "data": [
        {
         "alignmentgroup": "True",
         "hovertemplate": "Metric=Episode_Length_minutes<br>Instance #=%{x}<br>Minutes=%{y}<extra></extra>",
         "legendgroup": "Episode_Length_minutes",
         "marker": {
          "color": "#636efa",
          "pattern": {
           "shape": ""
          }
         },
         "name": "Episode_Length_minutes",
         "offsetgroup": "Episode_Length_minutes",
         "orientation": "v",
         "showlegend": true,
         "textposition": "auto",
         "type": "bar",
         "x": {
          "bdata": "AAECAwQFBgcICQoLDA0ODxAREhMUFRYXGBkaGxwdHh8gISIjJCUmJygpKissLS4vMDEyMzQ1Njc4OTo7PD0+P0BBQkNERUZHSElKS0xN",
          "dtype": "i1"
         },
         "xaxis": "x",
         "y": {
          "bdata": "cT0K16PwSEApXI/C9Sg+QHsUrkfhClhAhetRuB7FP0ApXI/C9dhbQAAAAAAAAPh/XI/C9ShMVEDNzMzMzEwhQM3MzMzMDDpAAAAAAAAA+H+uR+F6FB5XQMP1KFyPUllAPQrXo3A9LUDhehSuR/FXQHsUrkfheixAFK5H4XokUUDNzMzMzMw5QHsUrkfheh9AAAAAAAAA+H/2KFyPwvU2QAAAAAAAAPh/pHA9CtcjKEB7FK5H4XouQAAAAAAAAPh/AAAAAABgVEAK16NwPcpEQOxRuB6FS0NAAAAAAAAA+H8AAAAAAAD4f8P1KFyPwj5AAAAAAAAA+H+PwvUoXB9VQBSuR+F6pFRASOF6FK7XU0B7FK5H4XouQK5H4XoULjxAhetRuB7FNkBSuB6F61FDQEjhehSuB0JAexSuR+F6NUBmZmZmZmYpQM3MzMzMTFRAFK5H4XokW0C4HoXrUbhaQMP1KFyPIltAmpmZmZmZOUAAAAAAAAD4fylcj8L1SFRAexSuR+F6LkAAAAAAAAD4f1K4HoXrcVhArkfhehSuV0AUrkfhelRcQAAAAAAA8FZAKVyPwvXYWUAfhetRuG5YQMP1KFyPQlxA9ihcj8I1TEBcj8L1KJxPQAAAAAAAwFJASOF6FK5HSEDsUbgehXtQQK5H4XoUvlpAFK5H4XpUXEAK16NwPRpVQAAAAAAAAPh/4XoUrkeBRkAUrkfhelRYQBSuR+F6VFxAAAAAAAAA+H9SuB6F69FOQNejcD0Kt0ZAzczMzMxMM0BmZmZmZmYpQM3MzMzMTEBAAAAAAAAA+H9I4XoUroczQAAAAAAAIFNA",
          "dtype": "f8"
         },
         "yaxis": "y"
        },
        {
         "alignmentgroup": "True",
         "hovertemplate": "Metric=Listening_Time_minutes<br>Instance #=%{x}<br>Minutes=%{y}<extra></extra>",
         "legendgroup": "Listening_Time_minutes",
         "marker": {
          "color": "#EF553B",
          "pattern": {
           "shape": ""
          }
         },
         "name": "Listening_Time_minutes",
         "offsetgroup": "Listening_Time_minutes",
         "orientation": "v",
         "showlegend": true,
         "textposition": "auto",
         "type": "bar",
         "x": {
          "bdata": "AAECAwQFBgcICQoLDA0ODxAREhMUFRYXGBkaGxwdHh8gISIjJCUmJygpKissLS4vMDEyMzQ1Njc4OTo7PD0+P0BBQkNERUZHSElKS0xN",
          "dtype": "i1"
         },
         "xaxis": "x",
         "y": {
          "bdata": "1nPS+8ZLQkBDkIMSZhI7QO/Jw0Kt9UVA3PRnP1L0MEBApN++DohVQNDVVuwvs0xACJRNucJZUUBxPQrXo3AZQPwApDZxsitAeLRxxFoYUkCLcf4mFFxVQBPVWwNbWVhAgXhdv2BnIEDxaOOIteZVQCfaVUj5iQ1AiV5Gsdz+SkCm7V9ZafozQIW2nEtxVf8/EEBqEyf3FUBWSPlJtX8nQF9GsdzS6kpAYAK37uapHECBeF2/YGcgQGu3XWiuEzdAcJnTZTFzUUBc5nRZTNREQK4SLA5nTjxAEEBqEyf3FUAQQGoTJ/cVQA9iZwqdvzlAEEBqEyf3FUD3WPrQBQVFQAe2SrA4vEFAY7SOqiaQT0CBeF2/YGcgQEs8oGzKpTRAwTkjSnsDJ0CvQspPqv07QHsUrkfh+i5A74/3qpWpMkCBeF2/YGcgQJI/GHjuxUFAaTo7GRxxTkDzAuyjU+1RQGk6OxkccU5Apu1fWWn6M0Aom3KFdwk+QG4Xmus0Zk9AgXhdv2BnIECWCb/Uz7NdQD9vKlJhuE9A16NwPQqHVEA8a7ddaDhQQOuoaoKoQVBAEyf3OxT9T0Aw2A3bFiFVQG7A54cRdlJArRdDOdE2S0DjNhrAW9xNQNf6IqEtr0tA6znpfeNzQ0BKKej2ktpBQE1KQbeXIFJAPGu3XWg4UEBTP28qUilMQBBAahMn9xVAQWX8+4ybPUA8a7ddaDhQQDxrt11oOFBAy6FFtvMBREB4eqUsQ9RFQC6thsQ9bjtAo8wGmWTkHUCBeF2/YGcgQJjdk4eFujxAEEBqEyf3FUCjzAaZZOQdQHCZ02Uxc1FA",
          "dtype": "f8"
         },
         "yaxis": "y"
        }
       ],
       "layout": {
        "barmode": "group",
        "legend": {
         "title": {
          "text": "Metric"
         },
         "tracegroupgap": 0
        },
        "template": {
         "data": {
          "bar": [
           {
            "error_x": {
             "color": "#2a3f5f"
            },
            "error_y": {
             "color": "#2a3f5f"
            },
            "marker": {
             "line": {
              "color": "#E5ECF6",
              "width": 0.5
             },
             "pattern": {
              "fillmode": "overlay",
              "size": 10,
              "solidity": 0.2
             }
            },
            "type": "bar"
           }
          ],
          "barpolar": [
           {
            "marker": {
             "line": {
              "color": "#E5ECF6",
              "width": 0.5
             },
             "pattern": {
              "fillmode": "overlay",
              "size": 10,
              "solidity": 0.2
             }
            },
            "type": "barpolar"
           }
          ],
          "carpet": [
           {
            "aaxis": {
             "endlinecolor": "#2a3f5f",
             "gridcolor": "white",
             "linecolor": "white",
             "minorgridcolor": "white",
             "startlinecolor": "#2a3f5f"
            },
            "baxis": {
             "endlinecolor": "#2a3f5f",
             "gridcolor": "white",
             "linecolor": "white",
             "minorgridcolor": "white",
             "startlinecolor": "#2a3f5f"
            },
            "type": "carpet"
           }
          ],
          "choropleth": [
           {
            "colorbar": {
             "outlinewidth": 0,
             "ticks": ""
            },
            "type": "choropleth"
           }
          ],
          "contour": [
           {
            "colorbar": {
             "outlinewidth": 0,
             "ticks": ""
            },
            "colorscale": [
             [
              0,
              "#0d0887"
             ],
             [
              0.1111111111111111,
              "#46039f"
             ],
             [
              0.2222222222222222,
              "#7201a8"
             ],
             [
              0.3333333333333333,
              "#9c179e"
             ],
             [
              0.4444444444444444,
              "#bd3786"
             ],
             [
              0.5555555555555556,
              "#d8576b"
             ],
             [
              0.6666666666666666,
              "#ed7953"
             ],
             [
              0.7777777777777778,
              "#fb9f3a"
             ],
             [
              0.8888888888888888,
              "#fdca26"
             ],
             [
              1,
              "#f0f921"
             ]
            ],
            "type": "contour"
           }
          ],
          "contourcarpet": [
           {
            "colorbar": {
             "outlinewidth": 0,
             "ticks": ""
            },
            "type": "contourcarpet"
           }
          ],
          "heatmap": [
           {
            "colorbar": {
             "outlinewidth": 0,
             "ticks": ""
            },
            "colorscale": [
             [
              0,
              "#0d0887"
             ],
             [
              0.1111111111111111,
              "#46039f"
             ],
             [
              0.2222222222222222,
              "#7201a8"
             ],
             [
              0.3333333333333333,
              "#9c179e"
             ],
             [
              0.4444444444444444,
              "#bd3786"
             ],
             [
              0.5555555555555556,
              "#d8576b"
             ],
             [
              0.6666666666666666,
              "#ed7953"
             ],
             [
              0.7777777777777778,
              "#fb9f3a"
             ],
             [
              0.8888888888888888,
              "#fdca26"
             ],
             [
              1,
              "#f0f921"
             ]
            ],
            "type": "heatmap"
           }
          ],
          "histogram": [
           {
            "marker": {
             "pattern": {
              "fillmode": "overlay",
              "size": 10,
              "solidity": 0.2
             }
            },
            "type": "histogram"
           }
          ],
          "histogram2d": [
           {
            "colorbar": {
             "outlinewidth": 0,
             "ticks": ""
            },
            "colorscale": [
             [
              0,
              "#0d0887"
             ],
             [
              0.1111111111111111,
              "#46039f"
             ],
             [
              0.2222222222222222,
              "#7201a8"
             ],
             [
              0.3333333333333333,
              "#9c179e"
             ],
             [
              0.4444444444444444,
              "#bd3786"
             ],
             [
              0.5555555555555556,
              "#d8576b"
             ],
             [
              0.6666666666666666,
              "#ed7953"
             ],
             [
              0.7777777777777778,
              "#fb9f3a"
             ],
             [
              0.8888888888888888,
              "#fdca26"
             ],
             [
              1,
              "#f0f921"
             ]
            ],
            "type": "histogram2d"
           }
          ],
          "histogram2dcontour": [
           {
            "colorbar": {
             "outlinewidth": 0,
             "ticks": ""
            },
            "colorscale": [
             [
              0,
              "#0d0887"
             ],
             [
              0.1111111111111111,
              "#46039f"
             ],
             [
              0.2222222222222222,
              "#7201a8"
             ],
             [
              0.3333333333333333,
              "#9c179e"
             ],
             [
              0.4444444444444444,
              "#bd3786"
             ],
             [
              0.5555555555555556,
              "#d8576b"
             ],
             [
              0.6666666666666666,
              "#ed7953"
             ],
             [
              0.7777777777777778,
              "#fb9f3a"
             ],
             [
              0.8888888888888888,
              "#fdca26"
             ],
             [
              1,
              "#f0f921"
             ]
            ],
            "type": "histogram2dcontour"
           }
          ],
          "mesh3d": [
           {
            "colorbar": {
             "outlinewidth": 0,
             "ticks": ""
            },
            "type": "mesh3d"
           }
          ],
          "parcoords": [
           {
            "line": {
             "colorbar": {
              "outlinewidth": 0,
              "ticks": ""
             }
            },
            "type": "parcoords"
           }
          ],
          "pie": [
           {
            "automargin": true,
            "type": "pie"
           }
          ],
          "scatter": [
           {
            "fillpattern": {
             "fillmode": "overlay",
             "size": 10,
             "solidity": 0.2
            },
            "type": "scatter"
           }
          ],
          "scatter3d": [
           {
            "line": {
             "colorbar": {
              "outlinewidth": 0,
              "ticks": ""
             }
            },
            "marker": {
             "colorbar": {
              "outlinewidth": 0,
              "ticks": ""
             }
            },
            "type": "scatter3d"
           }
          ],
          "scattercarpet": [
           {
            "marker": {
             "colorbar": {
              "outlinewidth": 0,
              "ticks": ""
             }
            },
            "type": "scattercarpet"
           }
          ],
          "scattergeo": [
           {
            "marker": {
             "colorbar": {
              "outlinewidth": 0,
              "ticks": ""
             }
            },
            "type": "scattergeo"
           }
          ],
          "scattergl": [
           {
            "marker": {
             "colorbar": {
              "outlinewidth": 0,
              "ticks": ""
             }
            },
            "type": "scattergl"
           }
          ],
          "scattermap": [
           {
            "marker": {
             "colorbar": {
              "outlinewidth": 0,
              "ticks": ""
             }
            },
            "type": "scattermap"
           }
          ],
          "scattermapbox": [
           {
            "marker": {
             "colorbar": {
              "outlinewidth": 0,
              "ticks": ""
             }
            },
            "type": "scattermapbox"
           }
          ],
          "scatterpolar": [
           {
            "marker": {
             "colorbar": {
              "outlinewidth": 0,
              "ticks": ""
             }
            },
            "type": "scatterpolar"
           }
          ],
          "scatterpolargl": [
           {
            "marker": {
             "colorbar": {
              "outlinewidth": 0,
              "ticks": ""
             }
            },
            "type": "scatterpolargl"
           }
          ],
          "scatterternary": [
           {
            "marker": {
             "colorbar": {
              "outlinewidth": 0,
              "ticks": ""
             }
            },
            "type": "scatterternary"
           }
          ],
          "surface": [
           {
            "colorbar": {
             "outlinewidth": 0,
             "ticks": ""
            },
            "colorscale": [
             [
              0,
              "#0d0887"
             ],
             [
              0.1111111111111111,
              "#46039f"
             ],
             [
              0.2222222222222222,
              "#7201a8"
             ],
             [
              0.3333333333333333,
              "#9c179e"
             ],
             [
              0.4444444444444444,
              "#bd3786"
             ],
             [
              0.5555555555555556,
              "#d8576b"
             ],
             [
              0.6666666666666666,
              "#ed7953"
             ],
             [
              0.7777777777777778,
              "#fb9f3a"
             ],
             [
              0.8888888888888888,
              "#fdca26"
             ],
             [
              1,
              "#f0f921"
             ]
            ],
            "type": "surface"
           }
          ],
          "table": [
           {
            "cells": {
             "fill": {
              "color": "#EBF0F8"
             },
             "line": {
              "color": "white"
             }
            },
            "header": {
             "fill": {
              "color": "#C8D4E3"
             },
             "line": {
              "color": "white"
             }
            },
            "type": "table"
           }
          ]
         },
         "layout": {
          "annotationdefaults": {
           "arrowcolor": "#2a3f5f",
           "arrowhead": 0,
           "arrowwidth": 1
          },
          "autotypenumbers": "strict",
          "coloraxis": {
           "colorbar": {
            "outlinewidth": 0,
            "ticks": ""
           }
          },
          "colorscale": {
           "diverging": [
            [
             0,
             "#8e0152"
            ],
            [
             0.1,
             "#c51b7d"
            ],
            [
             0.2,
             "#de77ae"
            ],
            [
             0.3,
             "#f1b6da"
            ],
            [
             0.4,
             "#fde0ef"
            ],
            [
             0.5,
             "#f7f7f7"
            ],
            [
             0.6,
             "#e6f5d0"
            ],
            [
             0.7,
             "#b8e186"
            ],
            [
             0.8,
             "#7fbc41"
            ],
            [
             0.9,
             "#4d9221"
            ],
            [
             1,
             "#276419"
            ]
           ],
           "sequential": [
            [
             0,
             "#0d0887"
            ],
            [
             0.1111111111111111,
             "#46039f"
            ],
            [
             0.2222222222222222,
             "#7201a8"
            ],
            [
             0.3333333333333333,
             "#9c179e"
            ],
            [
             0.4444444444444444,
             "#bd3786"
            ],
            [
             0.5555555555555556,
             "#d8576b"
            ],
            [
             0.6666666666666666,
             "#ed7953"
            ],
            [
             0.7777777777777778,
             "#fb9f3a"
            ],
            [
             0.8888888888888888,
             "#fdca26"
            ],
            [
             1,
             "#f0f921"
            ]
           ],
           "sequentialminus": [
            [
             0,
             "#0d0887"
            ],
            [
             0.1111111111111111,
             "#46039f"
            ],
            [
             0.2222222222222222,
             "#7201a8"
            ],
            [
             0.3333333333333333,
             "#9c179e"
            ],
            [
             0.4444444444444444,
             "#bd3786"
            ],
            [
             0.5555555555555556,
             "#d8576b"
            ],
            [
             0.6666666666666666,
             "#ed7953"
            ],
            [
             0.7777777777777778,
             "#fb9f3a"
            ],
            [
             0.8888888888888888,
             "#fdca26"
            ],
            [
             1,
             "#f0f921"
            ]
           ]
          },
          "colorway": [
           "#636efa",
           "#EF553B",
           "#00cc96",
           "#ab63fa",
           "#FFA15A",
           "#19d3f3",
           "#FF6692",
           "#B6E880",
           "#FF97FF",
           "#FECB52"
          ],
          "font": {
           "color": "#2a3f5f"
          },
          "geo": {
           "bgcolor": "white",
           "lakecolor": "white",
           "landcolor": "#E5ECF6",
           "showlakes": true,
           "showland": true,
           "subunitcolor": "white"
          },
          "hoverlabel": {
           "align": "left"
          },
          "hovermode": "closest",
          "mapbox": {
           "style": "light"
          },
          "paper_bgcolor": "white",
          "plot_bgcolor": "#E5ECF6",
          "polar": {
           "angularaxis": {
            "gridcolor": "white",
            "linecolor": "white",
            "ticks": ""
           },
           "bgcolor": "#E5ECF6",
           "radialaxis": {
            "gridcolor": "white",
            "linecolor": "white",
            "ticks": ""
           }
          },
          "scene": {
           "xaxis": {
            "backgroundcolor": "#E5ECF6",
            "gridcolor": "white",
            "gridwidth": 2,
            "linecolor": "white",
            "showbackground": true,
            "ticks": "",
            "zerolinecolor": "white"
           },
           "yaxis": {
            "backgroundcolor": "#E5ECF6",
            "gridcolor": "white",
            "gridwidth": 2,
            "linecolor": "white",
            "showbackground": true,
            "ticks": "",
            "zerolinecolor": "white"
           },
           "zaxis": {
            "backgroundcolor": "#E5ECF6",
            "gridcolor": "white",
            "gridwidth": 2,
            "linecolor": "white",
            "showbackground": true,
            "ticks": "",
            "zerolinecolor": "white"
           }
          },
          "shapedefaults": {
           "line": {
            "color": "#2a3f5f"
           }
          },
          "ternary": {
           "aaxis": {
            "gridcolor": "white",
            "linecolor": "white",
            "ticks": ""
           },
           "baxis": {
            "gridcolor": "white",
            "linecolor": "white",
            "ticks": ""
           },
           "bgcolor": "#E5ECF6",
           "caxis": {
            "gridcolor": "white",
            "linecolor": "white",
            "ticks": ""
           }
          },
          "title": {
           "x": 0.05
          },
          "xaxis": {
           "automargin": true,
           "gridcolor": "white",
           "linecolor": "white",
           "ticks": "",
           "title": {
            "standoff": 15
           },
           "zerolinecolor": "white",
           "zerolinewidth": 2
          },
          "yaxis": {
           "automargin": true,
           "gridcolor": "white",
           "linecolor": "white",
           "ticks": "",
           "title": {
            "standoff": 15
           },
           "zerolinecolor": "white",
           "zerolinewidth": 2
          }
         }
        },
        "title": {
         "text": "Episode vs Listening Time — 'Athlete's Arena: Episode 1'"
        },
        "xaxis": {
         "anchor": "y",
         "domain": [
          0,
          1
         ],
         "title": {
          "text": "Instance #"
         }
        },
        "yaxis": {
         "anchor": "x",
         "domain": [
          0,
          1
         ],
         "title": {
          "text": "Minutes"
         }
        }
       }
      }
     },
     "metadata": {},
     "output_type": "display_data"
    }
   ],
   "source": [
    "import plotly.express as px\n",
    "\n",
    "# Step 1: Filter the data\n",
    "filtered = train[\n",
    "    (train[\"Podcast_Name\"] == \"Athlete's Arena\") &\n",
    "    (train[\"Episode_Title\"] == \"Episode 2\")\n",
    "].reset_index(drop=True)\n",
    "\n",
    "# Step 2: Add an 'Instance' column to track each row\n",
    "filtered[\"Instance\"] = filtered.index\n",
    "\n",
    "# Step 3: Melt the DataFrame\n",
    "melted = filtered.melt(\n",
    "    id_vars=\"Instance\",\n",
    "    value_vars=[\"Episode_Length_minutes\", \"Listening_Time_minutes\"],\n",
    "    var_name=\"Metric\",\n",
    "    value_name=\"Minutes\"\n",
    ")\n",
    "\n",
    "fig = px.bar(\n",
    "    melted,\n",
    "    x=\"Instance\",\n",
    "    y=\"Minutes\",\n",
    "    color=\"Metric\",\n",
    "    barmode=\"group\",\n",
    "    title=\"Episode vs Listening Time — 'Athlete's Arena: Episode 1'\",\n",
    "    labels={\"Instance\": \"Instance #\", \"Minutes\": \"Minutes\"}\n",
    ")\n",
    "\n",
    "fig.show()\n"
   ]
  },
  {
   "cell_type": "markdown",
   "metadata": {},
   "source": [
    "So firstly... Podcast Name and Episode Title have so many duplicated entries, in the specific columns, but not for their entire row. A quick check of all the different variations of the same episode name and Podcast names show vastly different entries. Thus this should **not** be used for imputation of missing data. But it does briefly indicate a potential pattern in the ratio. Soke further analysis of the ratios and their combinations could determine what could be a good imputation method (or prove that no reliable ones exist)"
   ]
  },
  {
   "cell_type": "code",
   "execution_count": 13,
   "metadata": {},
   "outputs": [
    {
     "data": {
      "text/plain": [
       "Listening_Time_minutes         1.000000\n",
       "Episode_Length_minutes         0.916749\n",
       "listen_ratio                   0.418532\n",
       "Host_Popularity_percentage     0.048337\n",
       "id                            -0.000619\n",
       "Guest_Popularity_percentage   -0.013251\n",
       "Number_of_Ads                 -0.119784\n",
       "Name: Listening_Time_minutes, dtype: float64"
      ]
     },
     "execution_count": 13,
     "metadata": {},
     "output_type": "execute_result"
    }
   ],
   "source": [
    "# Filter for valid episode lengths\n",
    "Train_clean = train[\n",
    "    (train[\"Episode_Length_minutes\"].notna()) &\n",
    "    (train[\"Episode_Length_minutes\"] > 0)\n",
    "].copy()\n",
    "\n",
    "# Create the ratio\n",
    "Train_clean[\"listen_ratio\"] = Train_clean[\"Listening_Time_minutes\"] / Train_clean[\"Episode_Length_minutes\"]\n",
    "\n",
    "# Select only numeric columns\n",
    "numerics = Train_clean.select_dtypes(include=\"number\")\n",
    "\n",
    "# Include the ratio in the set\n",
    "correlation_matrix = numerics.corr()\n",
    "\n",
    "# Sort by listen_ratio\n",
    "correlation_matrix[\"Listening_Time_minutes\"].sort_values(ascending=False)\n"
   ]
  },
  {
   "cell_type": "code",
   "execution_count": 14,
   "metadata": {},
   "outputs": [
    {
     "data": {
      "image/png": "[encoded data removed]",
      "text/plain": [
       "<Figure size 800x500 with 1 Axes>"
      ]
     },
     "metadata": {},
     "output_type": "display_data"
    },
    {
     "data": {
      "image/png": "[encoded data removed]",
      "text/plain": [
       "<Figure size 800x500 with 1 Axes>"
      ]
     },
     "metadata": {},
     "output_type": "display_data"
    },
    {
     "data": {
      "image/png": "[encoded data removed]",
      "text/plain": [
       "<Figure size 800x500 with 1 Axes>"
      ]
     },
     "metadata": {},
     "output_type": "display_data"
    }
   ],
   "source": [
    "\n",
    "\n",
    "import seaborn as sns\n",
    "import matplotlib.pyplot as plt\n",
    "\n",
    "# Set up the visual style\n",
    "sns.set(style=\"whitegrid\")\n",
    "\n",
    "# Genre vs Listening Time\n",
    "plt.figure(figsize=(8, 5))\n",
    "sns.boxplot(x='Genre', y='Listening_Time_minutes', data=train)\n",
    "plt.title('Listening Time by Genre')\n",
    "plt.xticks(rotation=30)\n",
    "plt.tight_layout()\n",
    "plt.show()\n",
    "\n",
    "# Publication Day vs Listening Time\n",
    "plt.figure(figsize=(8, 5))\n",
    "sns.boxplot(x='Publication_Day', y='Listening_Time_minutes', data=train)\n",
    "plt.title('Listening Time by Publication Day')\n",
    "plt.xticks(rotation=30)\n",
    "plt.tight_layout()\n",
    "plt.show()\n",
    "\n",
    "# Publication Time vs Listening Time\n",
    "plt.figure(figsize=(8, 5))\n",
    "sns.boxplot(x='Publication_Time', y='Listening_Time_minutes', data=train)\n",
    "plt.title('Listening Time by Publication Time')\n",
    "plt.tight_layout()\n",
    "plt.show()\n",
    "\n"
   ]
  },
  {
   "cell_type": "code",
   "execution_count": 16,
   "metadata": {},
   "outputs": [
    {
     "data": {
      "image/png": "[encoded data removed]",
      "text/plain": [
       "<Figure size 1200x800 with 4 Axes>"
      ]
     },
     "metadata": {},
     "output_type": "display_data"
    }
   ],
   "source": [
    "# Drop rows with missing values in key columns\n",
    "df_clean = train.dropna(subset=['Episode_Length_minutes', 'Guest_Popularity_percentage'])\n",
    "\n",
    "# Features to plot against Listening Time\n",
    "features = [\n",
    "    'Episode_Length_minutes',\n",
    "    'Host_Popularity_percentage',\n",
    "    'Guest_Popularity_percentage',\n",
    "    'Number_of_Ads'\n",
    "]\n",
    "\n",
    "# Create subplots\n",
    "fig, axes = plt.subplots(nrows=2, ncols=2, figsize=(12, 8))\n",
    "axes = axes.flatten()\n",
    "\n",
    "for i, feature in enumerate(features):\n",
    "    axes[i].scatter(df_clean[feature], df_clean['Listening_Time_minutes'], alpha=0.8)\n",
    "    axes[i].set_xlabel(feature)\n",
    "    axes[i].set_ylabel('Listening Time (min)')\n",
    "    axes[i].set_title(f'{feature} vs Listening Time')\n",
    "    axes[i].grid(True)\n",
    "\n",
    "plt.tight_layout()\n",
    "plt.show()"
   ]
  },
  {
   "cell_type": "markdown",
   "metadata": {},
   "source": [
    "- Outliers for Guest popularity (>100%)\n",
    "- Outliers for number of ads (I feel like it should only be 1,2 or 3)\n",
    "- Outliers for host popularity (>100%)\n"
   ]
  },
  {
   "cell_type": "code",
   "execution_count": 21,
   "metadata": {},
   "outputs": [
    {
     "data": {
      "image/png": "[encoded data removed]",
      "text/plain": [
       "<Figure size 400x600 with 1 Axes>"
      ]
     },
     "metadata": {},
     "output_type": "display_data"
    }
   ],
   "source": [
    "import matplotlib.pyplot as plt\n",
    "\n",
    "# Filter rows where episode length is NaN\n",
    "missing_length = train[train['Episode_Length_minutes'].isna()]\n",
    "\n",
    "# Just plot listening times vertically\n",
    "plt.figure(figsize=(4, 6))\n",
    "plt.scatter(x=[0]*len(missing_length), y=missing_length['Listening_Time_minutes'], alpha=0.6, color='teal')\n",
    "plt.title('Listening Time (Episode Length = NaN)')\n",
    "plt.ylabel('Listening Time (minutes)')\n",
    "plt.xticks([])  # remove x-axis ticks\n",
    "plt.grid(True, axis='y')\n",
    "plt.tight_layout()\n",
    "plt.show()"
   ]
  },
  {
   "cell_type": "code",
   "execution_count": 20,
   "metadata": {},
   "outputs": [
    {
     "data": {
      "text/html": [
       "<div>\n",
       "<style scoped>\n",
       "    .dataframe tbody tr th:only-of-type {\n",
       "        vertical-align: middle;\n",
       "    }\n",
       "\n",
       "    .dataframe tbody tr th {\n",
       "        vertical-align: top;\n",
       "    }\n",
       "\n",
       "    .dataframe thead th {\n",
       "        text-align: right;\n",
       "    }\n",
       "</style>\n",
       "<table border=\"1\" class=\"dataframe\">\n",
       "  <thead>\n",
       "    <tr style=\"text-align: right;\">\n",
       "      <th></th>\n",
       "      <th>id</th>\n",
       "      <th>Podcast_Name</th>\n",
       "      <th>Episode_Title</th>\n",
       "      <th>Episode_Length_minutes</th>\n",
       "      <th>Genre</th>\n",
       "      <th>Host_Popularity_percentage</th>\n",
       "      <th>Publication_Day</th>\n",
       "      <th>Publication_Time</th>\n",
       "      <th>Guest_Popularity_percentage</th>\n",
       "      <th>Number_of_Ads</th>\n",
       "      <th>Episode_Sentiment</th>\n",
       "      <th>Listening_Time_minutes</th>\n",
       "    </tr>\n",
       "  </thead>\n",
       "  <tbody>\n",
       "    <tr>\n",
       "      <th>0</th>\n",
       "      <td>0</td>\n",
       "      <td>Mystery Matters</td>\n",
       "      <td>Episode 98</td>\n",
       "      <td>NaN</td>\n",
       "      <td>True Crime</td>\n",
       "      <td>74.81</td>\n",
       "      <td>Thursday</td>\n",
       "      <td>Night</td>\n",
       "      <td>NaN</td>\n",
       "      <td>0.0</td>\n",
       "      <td>Positive</td>\n",
       "      <td>31.41998</td>\n",
       "    </tr>\n",
       "    <tr>\n",
       "      <th>9</th>\n",
       "      <td>9</td>\n",
       "      <td>Music Matters</td>\n",
       "      <td>Episode 81</td>\n",
       "      <td>NaN</td>\n",
       "      <td>Music</td>\n",
       "      <td>82.18</td>\n",
       "      <td>Thursday</td>\n",
       "      <td>Night</td>\n",
       "      <td>59.72</td>\n",
       "      <td>3.0</td>\n",
       "      <td>Neutral</td>\n",
       "      <td>45.94761</td>\n",
       "    </tr>\n",
       "    <tr>\n",
       "      <th>29</th>\n",
       "      <td>29</td>\n",
       "      <td>Health Hour</td>\n",
       "      <td>Episode 38</td>\n",
       "      <td>NaN</td>\n",
       "      <td>Health</td>\n",
       "      <td>45.97</td>\n",
       "      <td>Saturday</td>\n",
       "      <td>Evening</td>\n",
       "      <td>15.43</td>\n",
       "      <td>1.0</td>\n",
       "      <td>Negative</td>\n",
       "      <td>25.38384</td>\n",
       "    </tr>\n",
       "    <tr>\n",
       "      <th>43</th>\n",
       "      <td>43</td>\n",
       "      <td>Funny Folks</td>\n",
       "      <td>Episode 93</td>\n",
       "      <td>NaN</td>\n",
       "      <td>Comedy</td>\n",
       "      <td>33.02</td>\n",
       "      <td>Saturday</td>\n",
       "      <td>Afternoon</td>\n",
       "      <td>64.70</td>\n",
       "      <td>2.0</td>\n",
       "      <td>Positive</td>\n",
       "      <td>35.11072</td>\n",
       "    </tr>\n",
       "    <tr>\n",
       "      <th>49</th>\n",
       "      <td>49</td>\n",
       "      <td>Style Guide</td>\n",
       "      <td>Episode 75</td>\n",
       "      <td>NaN</td>\n",
       "      <td>Lifestyle</td>\n",
       "      <td>78.82</td>\n",
       "      <td>Saturday</td>\n",
       "      <td>Morning</td>\n",
       "      <td>NaN</td>\n",
       "      <td>2.0</td>\n",
       "      <td>Positive</td>\n",
       "      <td>24.40379</td>\n",
       "    </tr>\n",
       "    <tr>\n",
       "      <th>...</th>\n",
       "      <td>...</td>\n",
       "      <td>...</td>\n",
       "      <td>...</td>\n",
       "      <td>...</td>\n",
       "      <td>...</td>\n",
       "      <td>...</td>\n",
       "      <td>...</td>\n",
       "      <td>...</td>\n",
       "      <td>...</td>\n",
       "      <td>...</td>\n",
       "      <td>...</td>\n",
       "      <td>...</td>\n",
       "    </tr>\n",
       "    <tr>\n",
       "      <th>749926</th>\n",
       "      <td>749926</td>\n",
       "      <td>Current Affairs</td>\n",
       "      <td>Episode 48</td>\n",
       "      <td>NaN</td>\n",
       "      <td>News</td>\n",
       "      <td>78.14</td>\n",
       "      <td>Thursday</td>\n",
       "      <td>Afternoon</td>\n",
       "      <td>50.88</td>\n",
       "      <td>3.0</td>\n",
       "      <td>Positive</td>\n",
       "      <td>14.67000</td>\n",
       "    </tr>\n",
       "    <tr>\n",
       "      <th>749936</th>\n",
       "      <td>749936</td>\n",
       "      <td>Melody Mix</td>\n",
       "      <td>Episode 7</td>\n",
       "      <td>NaN</td>\n",
       "      <td>Music</td>\n",
       "      <td>29.15</td>\n",
       "      <td>Sunday</td>\n",
       "      <td>Afternoon</td>\n",
       "      <td>NaN</td>\n",
       "      <td>0.0</td>\n",
       "      <td>Negative</td>\n",
       "      <td>47.79899</td>\n",
       "    </tr>\n",
       "    <tr>\n",
       "      <th>749943</th>\n",
       "      <td>749943</td>\n",
       "      <td>World Watch</td>\n",
       "      <td>Episode 42</td>\n",
       "      <td>NaN</td>\n",
       "      <td>News</td>\n",
       "      <td>80.46</td>\n",
       "      <td>Saturday</td>\n",
       "      <td>Afternoon</td>\n",
       "      <td>15.18</td>\n",
       "      <td>1.0</td>\n",
       "      <td>Neutral</td>\n",
       "      <td>80.42861</td>\n",
       "    </tr>\n",
       "    <tr>\n",
       "      <th>749954</th>\n",
       "      <td>749954</td>\n",
       "      <td>Life Lessons</td>\n",
       "      <td>Episode 54</td>\n",
       "      <td>NaN</td>\n",
       "      <td>Lifestyle</td>\n",
       "      <td>59.31</td>\n",
       "      <td>Tuesday</td>\n",
       "      <td>Night</td>\n",
       "      <td>44.94</td>\n",
       "      <td>2.0</td>\n",
       "      <td>Neutral</td>\n",
       "      <td>99.33292</td>\n",
       "    </tr>\n",
       "    <tr>\n",
       "      <th>749984</th>\n",
       "      <td>749984</td>\n",
       "      <td>Game Day</td>\n",
       "      <td>Episode 13</td>\n",
       "      <td>NaN</td>\n",
       "      <td>Sports</td>\n",
       "      <td>70.22</td>\n",
       "      <td>Tuesday</td>\n",
       "      <td>Evening</td>\n",
       "      <td>53.74</td>\n",
       "      <td>1.0</td>\n",
       "      <td>Positive</td>\n",
       "      <td>37.26790</td>\n",
       "    </tr>\n",
       "  </tbody>\n",
       "</table>\n",
       "<p>87093 rows × 12 columns</p>\n",
       "</div>"
      ],
      "text/plain": [
       "            id     Podcast_Name Episode_Title  Episode_Length_minutes  \\\n",
       "0            0  Mystery Matters    Episode 98                     NaN   \n",
       "9            9    Music Matters    Episode 81                     NaN   \n",
       "29          29      Health Hour    Episode 38                     NaN   \n",
       "43          43      Funny Folks    Episode 93                     NaN   \n",
       "49          49      Style Guide    Episode 75                     NaN   \n",
       "...        ...              ...           ...                     ...   \n",
       "749926  749926  Current Affairs    Episode 48                     NaN   \n",
       "749936  749936       Melody Mix     Episode 7                     NaN   \n",
       "749943  749943      World Watch    Episode 42                     NaN   \n",
       "749954  749954     Life Lessons    Episode 54                     NaN   \n",
       "749984  749984         Game Day    Episode 13                     NaN   \n",
       "\n",
       "             Genre  Host_Popularity_percentage Publication_Day  \\\n",
       "0       True Crime                       74.81        Thursday   \n",
       "9            Music                       82.18        Thursday   \n",
       "29          Health                       45.97        Saturday   \n",
       "43          Comedy                       33.02        Saturday   \n",
       "49       Lifestyle                       78.82        Saturday   \n",
       "...            ...                         ...             ...   \n",
       "749926        News                       78.14        Thursday   \n",
       "749936       Music                       29.15          Sunday   \n",
       "749943        News                       80.46        Saturday   \n",
       "749954   Lifestyle                       59.31         Tuesday   \n",
       "749984      Sports                       70.22         Tuesday   \n",
       "\n",
       "       Publication_Time  Guest_Popularity_percentage  Number_of_Ads  \\\n",
       "0                 Night                          NaN            0.0   \n",
       "9                 Night                        59.72            3.0   \n",
       "29              Evening                        15.43            1.0   \n",
       "43            Afternoon                        64.70            2.0   \n",
       "49              Morning                          NaN            2.0   \n",
       "...                 ...                          ...            ...   \n",
       "749926        Afternoon                        50.88            3.0   \n",
       "749936        Afternoon                          NaN            0.0   \n",
       "749943        Afternoon                        15.18            1.0   \n",
       "749954            Night                        44.94            2.0   \n",
       "749984          Evening                        53.74            1.0   \n",
       "\n",
       "       Episode_Sentiment  Listening_Time_minutes  \n",
       "0               Positive                31.41998  \n",
       "9                Neutral                45.94761  \n",
       "29              Negative                25.38384  \n",
       "43              Positive                35.11072  \n",
       "49              Positive                24.40379  \n",
       "...                  ...                     ...  \n",
       "749926          Positive                14.67000  \n",
       "749936          Negative                47.79899  \n",
       "749943           Neutral                80.42861  \n",
       "749954           Neutral                99.33292  \n",
       "749984          Positive                37.26790  \n",
       "\n",
       "[87093 rows x 12 columns]"
      ]
     },
     "execution_count": 20,
     "metadata": {},
     "output_type": "execute_result"
    }
   ],
   "source": [
    "missing_length"
   ]
  },
  {
   "cell_type": "code",
   "execution_count": 19,
   "metadata": {},
   "outputs": [
    {
     "data": {
      "text/plain": [
       "87093"
      ]
     },
     "execution_count": 19,
     "metadata": {},
     "output_type": "execute_result"
    }
   ],
   "source": [
    "train['Episode_Length_minutes'].isna().sum()"
   ]
  },
  {
   "cell_type": "code",
   "execution_count": 30,
   "metadata": {},
   "outputs": [
    {
     "data": {
      "application/json": {
       "ascii": false,
       "bar_format": "{desc:45}|{bar}| [{percentage:3.0f}%]   {elapsed} -> ({remaining} left)",
       "colour": null,
       "elapsed": 0.004531145095825195,
       "initial": 0,
       "n": 0,
       "ncols": null,
       "nrows": null,
       "postfix": null,
       "prefix": "",
       "rate": null,
       "total": 13,
       "unit": "it",
       "unit_divisor": 1000,
       "unit_scale": false
      },
      "application/vnd.jupyter.widget-view+json": {
       "model_id": "20736c866f1543eda5609d9f803a669e",
       "version_major": 2,
       "version_minor": 0
      },
      "text/plain": [
       "                                             |          | [  0%]   00:00 -> (? left)"
      ]
     },
     "metadata": {},
     "output_type": "display_data"
    },
    {
     "name": "stdout",
     "output_type": "stream",
     "text": [
      "Report sweetviz_podcast_report.html was generated! NOTEBOOK/COLAB USERS: the web browser MAY not pop up, regardless, the report IS saved in your notebook/colab files.\n"
     ]
    }
   ],
   "source": [
    "# Analyse the dataset\n",
    "report = sv.analyze(train)\n",
    "\n",
    "# Show in browser or save\n",
    "report.show_html(\"sweetviz_podcast_report.html\")"
   ]
  }
 ],
 "metadata": {
  "kernelspec": {
   "display_name": "Python 3",
   "language": "python",
   "name": "python3"
  },
  "language_info": {
   "codemirror_mode": {
    "name": "ipython",
    "version": 3
   },
   "file_extension": ".py",
   "mimetype": "text/x-python",
   "name": "python",
   "nbconvert_exporter": "python",
   "pygments_lexer": "ipython3",
   "version": "3.9.13"
  }
 },
 "nbformat": 4,
 "nbformat_minor": 2
}
